{
  "nbformat": 4,
  "nbformat_minor": 0,
  "metadata": {
    "colab": {
      "name": "Task_1.ipynb",
      "provenance": [],
      "collapsed_sections": [
        "Psnw8S_56Blo",
        "SLTYRW1MdQvd",
        "FsjwEyr6M_tz"
      ]
    },
    "kernelspec": {
      "name": "python3",
      "display_name": "Python 3"
    },
    "accelerator": "GPU"
  },
  "cells": [
    {
      "cell_type": "markdown",
      "metadata": {
        "id": "xSU5cKJqzghE",
        "colab_type": "text"
      },
      "source": [
        "## Task_1 - Optimizers"
      ]
    },
    {
      "cell_type": "markdown",
      "metadata": {
        "id": "Psnw8S_56Blo",
        "colab_type": "text"
      },
      "source": [
        "## Architecture - DenseNet121"
      ]
    },
    {
      "cell_type": "markdown",
      "metadata": {
        "id": "oMYubyQtQcXX",
        "colab_type": "text"
      },
      "source": [
        "In this task, you will investigate how different optimizers affect the training behavior.\n",
        "\n",
        "Pick a architecture of your choice to train on Cifar10. Train this architecture with different Optimizers and different hyperparameters.\n",
        "Compare the training curves\n",
        "\n",
        "e.g. regarding:\n",
        "steps until convergence (or loss) \n",
        "when converged\n",
        "\n",
        "stability of training (fluctuation of the curve)\n",
        "\n",
        "Now choose a different architecture and/or data set and repeat the experiments.\n",
        "\n",
        "Are the results (qualitatively) still the same? If they are different, discuss potential reasons.\n",
        "Bonus: Do not only compare visually, but use meaningful quantitative measures for comparison."
      ]
    },
    {
      "cell_type": "code",
      "metadata": {
        "id": "EIPNCqqRzidM",
        "colab_type": "code",
        "colab": {}
      },
      "source": [
        "import tensorflow as tf\n",
        "import numpy as np\n",
        "from keras.callbacks import ReduceLROnPlateau\n",
        "\n",
        "import os\n",
        "import matplotlib.pyplot as plt\n"
      ],
      "execution_count": null,
      "outputs": []
    },
    {
      "cell_type": "code",
      "metadata": {
        "id": "k1PQpRHGzroS",
        "colab_type": "code",
        "colab": {
          "base_uri": "https://localhost:8080/",
          "height": 51
        },
        "outputId": "44be97f3-b7ee-48ac-c921-8f4c181699e0"
      },
      "source": [
        "train_images, test_images = tf.keras.datasets.cifar10.load_data()"
      ],
      "execution_count": null,
      "outputs": [
        {
          "output_type": "stream",
          "text": [
            "Downloading data from https://www.cs.toronto.edu/~kriz/cifar-10-python.tar.gz\n",
            "170500096/170498071 [==============================] - 7s 0us/step\n"
          ],
          "name": "stdout"
        }
      ]
    },
    {
      "cell_type": "code",
      "metadata": {
        "id": "0U8rFwrP0gLi",
        "colab_type": "code",
        "colab": {}
      },
      "source": [
        "images, labels = train_images\n",
        "test_images, test_labels = test_images"
      ],
      "execution_count": null,
      "outputs": []
    },
    {
      "cell_type": "code",
      "metadata": {
        "id": "j-KCAkyN3Vco",
        "colab_type": "code",
        "colab": {}
      },
      "source": [
        "images = (images/255.0)\n",
        "images = images.astype(np.float32)\n",
        "labels = labels.astype(np.int32)\n",
        "test_images = (test_images/255.0)\n",
        "test_images = test_images.astype(np.float32)\n",
        "test_labels = test_labels.astype(np.int32)\n",
        "\n",
        "dataset = tf.data.Dataset.from_tensor_slices((images, labels))\n",
        "ds = dataset.shuffle(5000).batch(64)"
      ],
      "execution_count": null,
      "outputs": []
    },
    {
      "cell_type": "code",
      "metadata": {
        "id": "S-omfYcQ0spo",
        "colab_type": "code",
        "colab": {}
      },
      "source": [
        "input_shape = images[0].shape"
      ],
      "execution_count": null,
      "outputs": []
    },
    {
      "cell_type": "code",
      "metadata": {
        "id": "IGL9Pb4m0vm-",
        "colab_type": "code",
        "colab": {}
      },
      "source": [
        "model_1 = tf.keras.applications.DenseNet121(include_top=True, weights=None,input_tensor=None,input_shape=input_shape,\n",
        "    pooling='max',\n",
        "    classes=10)"
      ],
      "execution_count": null,
      "outputs": []
    },
    {
      "cell_type": "code",
      "metadata": {
        "id": "SYJxiDoG5tXm",
        "colab_type": "code",
        "colab": {}
      },
      "source": [
        "reduce_lr = ReduceLROnPlateau(monitor='accuracy', factor=0.2, patience=2, min_lr=0.001)"
      ],
      "execution_count": null,
      "outputs": []
    },
    {
      "cell_type": "code",
      "metadata": {
        "id": "ra1upIbL2Q1L",
        "colab_type": "code",
        "colab": {}
      },
      "source": [
        "model_1.compile(optimizer='Adam', loss=tf.keras.losses.SparseCategoricalCrossentropy(), metrics = ['accuracy'])"
      ],
      "execution_count": null,
      "outputs": []
    },
    {
      "cell_type": "code",
      "metadata": {
        "id": "YEbwj58U3DO_",
        "colab_type": "code",
        "colab": {
          "base_uri": "https://localhost:8080/",
          "height": 714
        },
        "outputId": "e678c910-7a2a-45b6-8178-092d4bf5f105"
      },
      "source": [
        "model_1.fit(ds,epochs=20, callbacks= [reduce_lr], use_multiprocessing=True)"
      ],
      "execution_count": null,
      "outputs": [
        {
          "output_type": "stream",
          "text": [
            "Epoch 1/20\n",
            "782/782 [==============================] - 30s 38ms/step - loss: 1.4550 - accuracy: 0.4769\n",
            "Epoch 2/20\n",
            "782/782 [==============================] - 29s 37ms/step - loss: 1.0597 - accuracy: 0.6281\n",
            "Epoch 3/20\n",
            "782/782 [==============================] - 30s 38ms/step - loss: 0.8911 - accuracy: 0.6894\n",
            "Epoch 4/20\n",
            "782/782 [==============================] - 30s 38ms/step - loss: 0.7704 - accuracy: 0.7329\n",
            "Epoch 5/20\n",
            "782/782 [==============================] - 32s 42ms/step - loss: 0.6796 - accuracy: 0.7650\n",
            "Epoch 6/20\n",
            "782/782 [==============================] - 32s 41ms/step - loss: 0.5929 - accuracy: 0.7959\n",
            "Epoch 7/20\n",
            "782/782 [==============================] - 31s 39ms/step - loss: 0.5199 - accuracy: 0.8188\n",
            "Epoch 8/20\n",
            "782/782 [==============================] - 31s 40ms/step - loss: 0.4349 - accuracy: 0.8476\n",
            "Epoch 9/20\n",
            "782/782 [==============================] - 31s 40ms/step - loss: 0.3569 - accuracy: 0.8746\n",
            "Epoch 10/20\n",
            "782/782 [==============================] - 31s 39ms/step - loss: 0.2958 - accuracy: 0.8969\n",
            "Epoch 11/20\n",
            "782/782 [==============================] - 31s 39ms/step - loss: 0.2644 - accuracy: 0.9069\n",
            "Epoch 12/20\n",
            "782/782 [==============================] - 31s 40ms/step - loss: 0.1968 - accuracy: 0.9299\n",
            "Epoch 13/20\n",
            "782/782 [==============================] - 31s 40ms/step - loss: 0.1790 - accuracy: 0.9357\n",
            "Epoch 14/20\n",
            "782/782 [==============================] - 30s 39ms/step - loss: 0.1483 - accuracy: 0.9473\n",
            "Epoch 15/20\n",
            "782/782 [==============================] - 31s 40ms/step - loss: 0.1389 - accuracy: 0.9513\n",
            "Epoch 16/20\n",
            "782/782 [==============================] - 31s 40ms/step - loss: 0.1125 - accuracy: 0.9590\n",
            "Epoch 17/20\n",
            "782/782 [==============================] - 31s 39ms/step - loss: 0.1076 - accuracy: 0.9631\n",
            "Epoch 18/20\n",
            "782/782 [==============================] - 31s 40ms/step - loss: 0.0951 - accuracy: 0.9669\n",
            "Epoch 19/20\n",
            "782/782 [==============================] - 30s 39ms/step - loss: 0.0894 - accuracy: 0.9681\n",
            "Epoch 20/20\n",
            "782/782 [==============================] - 28s 36ms/step - loss: 0.0880 - accuracy: 0.9688\n"
          ],
          "name": "stdout"
        },
        {
          "output_type": "execute_result",
          "data": {
            "text/plain": [
              "<tensorflow.python.keras.callbacks.History at 0x7fca44924240>"
            ]
          },
          "metadata": {
            "tags": []
          },
          "execution_count": 12
        }
      ]
    },
    {
      "cell_type": "code",
      "metadata": {
        "id": "k3zXpDVkX9Sc",
        "colab_type": "code",
        "colab": {}
      },
      "source": [
        "os.chdir('/content/drive/My Drive/My_IDL')\n",
        "model_1.save('model_1.h5')"
      ],
      "execution_count": null,
      "outputs": []
    },
    {
      "cell_type": "code",
      "metadata": {
        "id": "xmPA17_NTRyK",
        "colab_type": "code",
        "colab": {}
      },
      "source": [
        "accuracy_adam = model_1.history.history['accuracy']\n",
        "loss_adam = model_1.history.history['loss']"
      ],
      "execution_count": null,
      "outputs": []
    },
    {
      "cell_type": "code",
      "metadata": {
        "id": "lKvGjmn6S7rt",
        "colab_type": "code",
        "colab": {}
      },
      "source": [
        "model_2 = tf.keras.applications.DenseNet121(include_top=True, weights=None,input_tensor=None,input_shape=input_shape,\n",
        "    pooling='max',\n",
        "    classes=10)\n"
      ],
      "execution_count": null,
      "outputs": []
    },
    {
      "cell_type": "code",
      "metadata": {
        "id": "tXERpl4fUc5v",
        "colab_type": "code",
        "colab": {}
      },
      "source": [
        "model_3 = tf.keras.applications.DenseNet121(include_top=True, weights=None,input_tensor=None,input_shape=input_shape,\n",
        "    pooling='max',\n",
        "    classes=10)"
      ],
      "execution_count": null,
      "outputs": []
    },
    {
      "cell_type": "code",
      "metadata": {
        "id": "v0H8lsALUfQv",
        "colab_type": "code",
        "colab": {}
      },
      "source": [
        "reduce_lr_1 = ReduceLROnPlateau(monitor='accuracy', factor=0.2, patience=2, min_lr=0.001)"
      ],
      "execution_count": null,
      "outputs": []
    },
    {
      "cell_type": "code",
      "metadata": {
        "id": "CjzPfBkTb_8U",
        "colab_type": "code",
        "colab": {}
      },
      "source": [
        "model_2.compile(optimizer='RMSprop', loss=tf.keras.losses.SparseCategoricalCrossentropy(), metrics = ['accuracy'])"
      ],
      "execution_count": null,
      "outputs": []
    },
    {
      "cell_type": "code",
      "metadata": {
        "id": "RVbazljJgruA",
        "colab_type": "code",
        "colab": {}
      },
      "source": [
        "model_3.compile(optimizer='SGD', loss = tf.keras.losses.SparseCategoricalCrossentropy(), metrics=['accuracy'])"
      ],
      "execution_count": null,
      "outputs": []
    },
    {
      "cell_type": "code",
      "metadata": {
        "id": "W8DxBieAg6vl",
        "colab_type": "code",
        "colab": {
          "base_uri": "https://localhost:8080/",
          "height": 714
        },
        "outputId": "40d0c160-8aed-44ba-8057-23bb6a783a5e"
      },
      "source": [
        "model_2.fit(ds,epochs=20, callbacks= [reduce_lr_1], use_multiprocessing=True)"
      ],
      "execution_count": null,
      "outputs": [
        {
          "output_type": "stream",
          "text": [
            "Epoch 1/20\n",
            "782/782 [==============================] - 47s 60ms/step - loss: 1.5200 - accuracy: 0.4672\n",
            "Epoch 2/20\n",
            "782/782 [==============================] - 44s 57ms/step - loss: 1.0619 - accuracy: 0.6323\n",
            "Epoch 3/20\n",
            "782/782 [==============================] - 45s 57ms/step - loss: 0.8581 - accuracy: 0.7016\n",
            "Epoch 4/20\n",
            "782/782 [==============================] - 44s 57ms/step - loss: 0.7327 - accuracy: 0.7485\n",
            "Epoch 5/20\n",
            "782/782 [==============================] - 45s 57ms/step - loss: 0.6408 - accuracy: 0.7792\n",
            "Epoch 6/20\n",
            "782/782 [==============================] - 44s 57ms/step - loss: 0.5542 - accuracy: 0.8122\n",
            "Epoch 7/20\n",
            "782/782 [==============================] - 45s 58ms/step - loss: 0.4689 - accuracy: 0.8356\n",
            "Epoch 8/20\n",
            "782/782 [==============================] - 44s 56ms/step - loss: 0.3965 - accuracy: 0.8625\n",
            "Epoch 9/20\n",
            "782/782 [==============================] - 46s 59ms/step - loss: 0.3359 - accuracy: 0.8824\n",
            "Epoch 10/20\n",
            "782/782 [==============================] - 44s 56ms/step - loss: 0.2794 - accuracy: 0.9001\n",
            "Epoch 11/20\n",
            "782/782 [==============================] - 45s 57ms/step - loss: 0.2397 - accuracy: 0.9147\n",
            "Epoch 12/20\n",
            "782/782 [==============================] - 45s 57ms/step - loss: 0.2088 - accuracy: 0.9273\n",
            "Epoch 13/20\n",
            "782/782 [==============================] - 45s 57ms/step - loss: 0.1859 - accuracy: 0.9349\n",
            "Epoch 14/20\n",
            "782/782 [==============================] - 45s 57ms/step - loss: 0.1661 - accuracy: 0.9416\n",
            "Epoch 15/20\n",
            "782/782 [==============================] - 44s 56ms/step - loss: 0.1472 - accuracy: 0.9483\n",
            "Epoch 16/20\n",
            "782/782 [==============================] - 44s 56ms/step - loss: 0.1353 - accuracy: 0.9541\n",
            "Epoch 17/20\n",
            "782/782 [==============================] - 45s 57ms/step - loss: 0.1202 - accuracy: 0.9575\n",
            "Epoch 18/20\n",
            "782/782 [==============================] - 43s 55ms/step - loss: 0.1150 - accuracy: 0.9603\n",
            "Epoch 19/20\n",
            "782/782 [==============================] - 44s 56ms/step - loss: 0.1069 - accuracy: 0.9631\n",
            "Epoch 20/20\n",
            "782/782 [==============================] - 44s 56ms/step - loss: 0.1053 - accuracy: 0.9661\n"
          ],
          "name": "stdout"
        },
        {
          "output_type": "execute_result",
          "data": {
            "text/plain": [
              "<tensorflow.python.keras.callbacks.History at 0x7fc965361240>"
            ]
          },
          "metadata": {
            "tags": []
          },
          "execution_count": 23
        }
      ]
    },
    {
      "cell_type": "code",
      "metadata": {
        "id": "oQ4tY0LVhCaU",
        "colab_type": "code",
        "colab": {
          "base_uri": "https://localhost:8080/",
          "height": 714
        },
        "outputId": "a145e32d-8754-472b-afe8-28c288f29d70"
      },
      "source": [
        "model_3.fit(ds,epochs=20, callbacks= [reduce_lr_1], use_multiprocessing=True)"
      ],
      "execution_count": null,
      "outputs": [
        {
          "output_type": "stream",
          "text": [
            "Epoch 1/20\n",
            "782/782 [==============================] - 27s 35ms/step - loss: 1.7266 - accuracy: 0.3716\n",
            "Epoch 2/20\n",
            "782/782 [==============================] - 27s 35ms/step - loss: 1.3945 - accuracy: 0.4971\n",
            "Epoch 3/20\n",
            "782/782 [==============================] - 28s 36ms/step - loss: 1.2273 - accuracy: 0.5580\n",
            "Epoch 4/20\n",
            "782/782 [==============================] - 29s 37ms/step - loss: 1.0970 - accuracy: 0.6067\n",
            "Epoch 5/20\n",
            "782/782 [==============================] - 28s 35ms/step - loss: 0.9869 - accuracy: 0.6474\n",
            "Epoch 6/20\n",
            "782/782 [==============================] - 26s 34ms/step - loss: 0.8907 - accuracy: 0.6814\n",
            "Epoch 7/20\n",
            "782/782 [==============================] - 28s 35ms/step - loss: 0.8069 - accuracy: 0.7123\n",
            "Epoch 8/20\n",
            "782/782 [==============================] - 27s 34ms/step - loss: 0.7239 - accuracy: 0.7447\n",
            "Epoch 9/20\n",
            "782/782 [==============================] - 27s 34ms/step - loss: 0.6518 - accuracy: 0.7715\n",
            "Epoch 10/20\n",
            "782/782 [==============================] - 27s 35ms/step - loss: 0.5744 - accuracy: 0.7990\n",
            "Epoch 11/20\n",
            "782/782 [==============================] - 27s 34ms/step - loss: 0.5032 - accuracy: 0.8241\n",
            "Epoch 12/20\n",
            "782/782 [==============================] - 27s 35ms/step - loss: 0.4514 - accuracy: 0.8415\n",
            "Epoch 13/20\n",
            "782/782 [==============================] - 28s 35ms/step - loss: 0.3927 - accuracy: 0.8629\n",
            "Epoch 14/20\n",
            "782/782 [==============================] - 27s 34ms/step - loss: 0.3468 - accuracy: 0.8783\n",
            "Epoch 15/20\n",
            "782/782 [==============================] - 27s 34ms/step - loss: 0.2988 - accuracy: 0.8956\n",
            "Epoch 16/20\n",
            "782/782 [==============================] - 27s 34ms/step - loss: 0.2729 - accuracy: 0.9036\n",
            "Epoch 17/20\n",
            "782/782 [==============================] - 27s 35ms/step - loss: 0.2342 - accuracy: 0.9180\n",
            "Epoch 18/20\n",
            "782/782 [==============================] - 28s 35ms/step - loss: 0.2136 - accuracy: 0.9243\n",
            "Epoch 19/20\n",
            "782/782 [==============================] - 28s 36ms/step - loss: 0.1767 - accuracy: 0.9387\n",
            "Epoch 20/20\n",
            "782/782 [==============================] - 28s 36ms/step - loss: 0.1617 - accuracy: 0.9439\n"
          ],
          "name": "stdout"
        },
        {
          "output_type": "execute_result",
          "data": {
            "text/plain": [
              "<tensorflow.python.keras.callbacks.History at 0x7fc962ff1a20>"
            ]
          },
          "metadata": {
            "tags": []
          },
          "execution_count": 24
        }
      ]
    },
    {
      "cell_type": "code",
      "metadata": {
        "id": "F3U6x9v5hH_D",
        "colab_type": "code",
        "colab": {}
      },
      "source": [
        "model_2.save('model_2.h5')\n",
        "model_3.save('model_3.h5')"
      ],
      "execution_count": null,
      "outputs": []
    },
    {
      "cell_type": "code",
      "metadata": {
        "id": "LHGTKeyxki9P",
        "colab_type": "code",
        "colab": {}
      },
      "source": [
        "accuracy_rmsprop = model_2.history.history['accuracy']\n",
        "loss_rmsprop = model_2.history.history['loss']"
      ],
      "execution_count": null,
      "outputs": []
    },
    {
      "cell_type": "code",
      "metadata": {
        "id": "tfP2vgQ0kpXp",
        "colab_type": "code",
        "colab": {}
      },
      "source": [
        "accuracy_sgd = model_3.history.history['accuracy']\n",
        "loss_sgd = model_3.history.history['loss']"
      ],
      "execution_count": null,
      "outputs": []
    },
    {
      "cell_type": "code",
      "metadata": {
        "id": "_Hor-CkTfqW5",
        "colab_type": "code",
        "colab": {
          "base_uri": "https://localhost:8080/",
          "height": 378
        },
        "outputId": "279a2aa5-31b9-42a9-ecea-1bd089280d40"
      },
      "source": [
        "plt.style.use('seaborn')\n",
        "plt.plot(accuracy_adam, '.-k', label='Adam')\n",
        "plt.plot(accuracy_rmsprop, '--r', label = 'RMSprop')\n",
        "plt.plot(accuracy_sgd, '*-b', label='SGD')\n",
        "plt.xlabel('Epochs')\n",
        "plt.ylabel('Accuracy')\n",
        "plt.legend(loc='best')"
      ],
      "execution_count": null,
      "outputs": [
        {
          "output_type": "execute_result",
          "data": {
            "text/plain": [
              "<matplotlib.legend.Legend at 0x7fc96161e198>"
            ]
          },
          "metadata": {
            "tags": []
          },
          "execution_count": 29
        },
        {
          "output_type": "display_data",
          "data": {
            "image/png": "[encoded data removed]",
            "text/plain": [
              "<Figure size 576x396 with 1 Axes>"
            ]
          },
          "metadata": {
            "tags": []
          }
        }
      ]
    },
    {
      "cell_type": "code",
      "metadata": {
        "id": "JuOuVPcNlvsA",
        "colab_type": "code",
        "colab": {
          "base_uri": "https://localhost:8080/",
          "height": 378
        },
        "outputId": "987ddf98-7043-4546-a940-893b26351018"
      },
      "source": [
        "plt.plot(loss_adam, '.-k', label='Adam')\n",
        "plt.plot(loss_rmsprop, '--r', label = 'RMSprop')\n",
        "plt.plot(loss_sgd, '*-b', label='SGD')\n",
        "plt.xlabel('Epochs')\n",
        "plt.ylabel('Loss')\n",
        "plt.legend(loc='best')"
      ],
      "execution_count": null,
      "outputs": [
        {
          "output_type": "execute_result",
          "data": {
            "text/plain": [
              "<matplotlib.legend.Legend at 0x7fc961691b70>"
            ]
          },
          "metadata": {
            "tags": []
          },
          "execution_count": 30
        },
        {
          "output_type": "display_data",
          "data": {
            "image/png": "[encoded data removed]",
            "text/plain": [
              "<Figure size 576x396 with 1 Axes>"
            ]
          },
          "metadata": {
            "tags": []
          }
        }
      ]
    },
    {
      "cell_type": "code",
      "metadata": {
        "id": "OaMF5KaHl7E6",
        "colab_type": "code",
        "colab": {
          "base_uri": "https://localhost:8080/",
          "height": 34
        },
        "outputId": "2c42b141-8a89-4071-945a-891ba3cde5cf"
      },
      "source": [
        "test_acc_adam = model_1.evaluate(test_images, test_labels, batch_size=32, use_multiprocessing=True)"
      ],
      "execution_count": null,
      "outputs": [
        {
          "output_type": "stream",
          "text": [
            "313/313 [==============================] - 3s 9ms/step - loss: 1.2424 - accuracy: 0.7532\n"
          ],
          "name": "stdout"
        }
      ]
    },
    {
      "cell_type": "code",
      "metadata": {
        "id": "MiNSKbonnK6o",
        "colab_type": "code",
        "colab": {
          "base_uri": "https://localhost:8080/",
          "height": 34
        },
        "outputId": "23272a1c-d1ac-4352-c665-4eec014cf92e"
      },
      "source": [
        "test_acc_rmsprop = model_2.evaluate(test_images, test_labels, batch_size=32, use_multiprocessing=True)"
      ],
      "execution_count": null,
      "outputs": [
        {
          "output_type": "stream",
          "text": [
            "313/313 [==============================] - 3s 10ms/step - loss: 1.3492 - accuracy: 0.7559\n"
          ],
          "name": "stdout"
        }
      ]
    },
    {
      "cell_type": "code",
      "metadata": {
        "id": "ILN0Zq4Nnm4f",
        "colab_type": "code",
        "colab": {
          "base_uri": "https://localhost:8080/",
          "height": 34
        },
        "outputId": "8b82c5e6-801e-4996-f2f1-14420ce458ad"
      },
      "source": [
        "test_acc_sgd = model_3.evaluate(test_images, test_labels, batch_size=32, use_multiprocessing=True)"
      ],
      "execution_count": null,
      "outputs": [
        {
          "output_type": "stream",
          "text": [
            "313/313 [==============================] - 3s 10ms/step - loss: 2.0645 - accuracy: 0.5761\n"
          ],
          "name": "stdout"
        }
      ]
    },
    {
      "cell_type": "code",
      "metadata": {
        "id": "07deVIxUnwpt",
        "colab_type": "code",
        "colab": {}
      },
      "source": [
        ""
      ],
      "execution_count": null,
      "outputs": []
    },
    {
      "cell_type": "markdown",
      "metadata": {
        "id": "pMu0A5HsQU1d",
        "colab_type": "text"
      },
      "source": [
        "**Architecture chosen: DenseNet121**\n",
        "\n",
        "Trained with 3 different optimizers: Adam, RMSprop, SGD. \n",
        "\n",
        "Accuarcy comparison: Trained for 20 epochs , Adam and Rmsprop is performing almost the same, but Adam, slightly better at 96.88% and RMSprop at 96.61% training accuracy. But we can see the model is overfitting. SGD is performing the worst of all with 94% training accuracy, which was not expected. \n",
        "Test accuracy for all the optimizers is not up to the mark. SGD performs worst with 57% test accuracy. \n",
        "\n",
        "Loss comparison: RMSprop and SGD shows a convex curve with no major fluctuation, where the loss decreases eventually. But we can see some fluctuations in the loss graph for Adam between 8 to 15 epochs."
      ]
    },
    {
      "cell_type": "markdown",
      "metadata": {
        "id": "SLTYRW1MdQvd",
        "colab_type": "text"
      },
      "source": [
        "##  Architecture - Resnet50"
      ]
    },
    {
      "cell_type": "code",
      "metadata": {
        "id": "AnY5EXq03mgx",
        "colab_type": "code",
        "colab": {}
      },
      "source": [
        "model_4 = tf.keras.applications.ResNet50(\n",
        "    input_shape=input_shape,\n",
        "    weights= None,\n",
        "    pooling='max',\n",
        "    classes=10\n",
        ")\n",
        "\n",
        "model_5 = tf.keras.applications.ResNet50(\n",
        "    input_tensor=None,\n",
        "    weights=None,\n",
        "    input_shape=input_shape,\n",
        "    pooling='max',\n",
        "    classes=10\n",
        ")\n",
        "\n",
        "model_6 = tf.keras.applications.ResNet50(\n",
        "    weights=None,\n",
        "    input_tensor=None,\n",
        "    input_shape=input_shape,\n",
        "    pooling='max',\n",
        "    classes=10\n",
        "    \n",
        ")"
      ],
      "execution_count": null,
      "outputs": []
    },
    {
      "cell_type": "code",
      "metadata": {
        "id": "5qmaDpN33tOY",
        "colab_type": "code",
        "colab": {}
      },
      "source": [
        "reduce_lr_2 = ReduceLROnPlateau(monitor='accuracy', factor=0.2, patience=2, min_lr=0.001)"
      ],
      "execution_count": null,
      "outputs": []
    },
    {
      "cell_type": "code",
      "metadata": {
        "id": "Au11U9jG43LD",
        "colab_type": "code",
        "colab": {}
      },
      "source": [
        "model_4.compile(optimizer='Adam', loss=tf.keras.losses.SparseCategoricalCrossentropy(), metrics = ['accuracy'])\n",
        "model_5.compile(optimizer='RMSprop', loss=tf.keras.losses.SparseCategoricalCrossentropy(), metrics = ['accuracy'])\n",
        "model_6.compile(optimizer='SGD', loss=tf.keras.losses.SparseCategoricalCrossentropy(), metrics = ['accuracy'])"
      ],
      "execution_count": null,
      "outputs": []
    },
    {
      "cell_type": "code",
      "metadata": {
        "id": "chZfZy325Fe5",
        "colab_type": "code",
        "colab": {
          "base_uri": "https://localhost:8080/",
          "height": 1000
        },
        "outputId": "e17068b0-eef5-402b-ee3f-963f5c592aac"
      },
      "source": [
        "model_4.fit(ds,epochs=30, callbacks= [reduce_lr_2], use_multiprocessing=True)"
      ],
      "execution_count": null,
      "outputs": [
        {
          "output_type": "stream",
          "text": [
            "Epoch 1/30\n",
            "782/782 [==============================] - 35s 45ms/step - loss: 1.2247 - accuracy: 0.5941\n",
            "Epoch 2/30\n",
            "782/782 [==============================] - 34s 44ms/step - loss: 1.2737 - accuracy: 0.5798\n",
            "Epoch 3/30\n",
            "782/782 [==============================] - 34s 43ms/step - loss: 1.0810 - accuracy: 0.6335\n",
            "Epoch 4/30\n",
            "782/782 [==============================] - 34s 44ms/step - loss: 1.2735 - accuracy: 0.5769\n",
            "Epoch 5/30\n",
            "782/782 [==============================] - 34s 43ms/step - loss: 1.0618 - accuracy: 0.6420\n",
            "Epoch 6/30\n",
            "782/782 [==============================] - 34s 44ms/step - loss: 1.1368 - accuracy: 0.6207\n",
            "Epoch 7/30\n",
            "782/782 [==============================] - 35s 45ms/step - loss: 1.0854 - accuracy: 0.6314\n",
            "Epoch 8/30\n",
            "782/782 [==============================] - 35s 45ms/step - loss: 0.8888 - accuracy: 0.6978\n",
            "Epoch 9/30\n",
            "782/782 [==============================] - 35s 44ms/step - loss: 0.7698 - accuracy: 0.7361\n",
            "Epoch 10/30\n",
            "782/782 [==============================] - 34s 44ms/step - loss: 0.9645 - accuracy: 0.6837\n",
            "Epoch 11/30\n",
            "782/782 [==============================] - 34s 44ms/step - loss: 0.8027 - accuracy: 0.7277\n",
            "Epoch 12/30\n",
            "782/782 [==============================] - 34s 43ms/step - loss: 0.6667 - accuracy: 0.7674\n",
            "Epoch 13/30\n",
            "782/782 [==============================] - 34s 43ms/step - loss: 0.6024 - accuracy: 0.7908\n",
            "Epoch 14/30\n",
            "782/782 [==============================] - 34s 43ms/step - loss: 0.5583 - accuracy: 0.8073\n",
            "Epoch 15/30\n",
            "782/782 [==============================] - 34s 43ms/step - loss: 0.4700 - accuracy: 0.8349\n",
            "Epoch 16/30\n",
            "782/782 [==============================] - 34s 44ms/step - loss: 0.4995 - accuracy: 0.8292\n",
            "Epoch 17/30\n",
            "782/782 [==============================] - 34s 43ms/step - loss: 0.3710 - accuracy: 0.8716\n",
            "Epoch 18/30\n",
            "782/782 [==============================] - 34s 43ms/step - loss: 0.4815 - accuracy: 0.8385\n",
            "Epoch 19/30\n",
            "782/782 [==============================] - 34s 44ms/step - loss: 0.4548 - accuracy: 0.8478\n",
            "Epoch 20/30\n",
            "782/782 [==============================] - 35s 44ms/step - loss: 0.3147 - accuracy: 0.8921\n",
            "Epoch 21/30\n",
            "782/782 [==============================] - 34s 44ms/step - loss: 0.3261 - accuracy: 0.8898\n",
            "Epoch 22/30\n",
            "782/782 [==============================] - 34s 44ms/step - loss: 0.2158 - accuracy: 0.9260\n",
            "Epoch 23/30\n",
            "782/782 [==============================] - 35s 45ms/step - loss: 0.1578 - accuracy: 0.9445\n",
            "Epoch 24/30\n",
            "782/782 [==============================] - 34s 44ms/step - loss: 0.1767 - accuracy: 0.9396\n",
            "Epoch 25/30\n",
            "782/782 [==============================] - 34s 43ms/step - loss: 0.1591 - accuracy: 0.9456\n",
            "Epoch 26/30\n",
            "782/782 [==============================] - 34s 43ms/step - loss: 0.1289 - accuracy: 0.9554\n",
            "Epoch 27/30\n",
            "782/782 [==============================] - 34s 43ms/step - loss: 0.1336 - accuracy: 0.9545\n",
            "Epoch 28/30\n",
            "782/782 [==============================] - 34s 43ms/step - loss: 0.1623 - accuracy: 0.9448\n",
            "Epoch 29/30\n",
            "782/782 [==============================] - 34s 43ms/step - loss: 0.0814 - accuracy: 0.9717\n",
            "Epoch 30/30\n",
            "782/782 [==============================] - 34s 43ms/step - loss: 0.0806 - accuracy: 0.9719\n"
          ],
          "name": "stdout"
        },
        {
          "output_type": "execute_result",
          "data": {
            "text/plain": [
              "<tensorflow.python.keras.callbacks.History at 0x7f7045bf5a20>"
            ]
          },
          "metadata": {
            "tags": []
          },
          "execution_count": 17
        }
      ]
    },
    {
      "cell_type": "code",
      "metadata": {
        "id": "Y0SKRtTf5QSI",
        "colab_type": "code",
        "colab": {
          "base_uri": "https://localhost:8080/",
          "height": 1000
        },
        "outputId": "102e38ac-5822-4c1f-e17c-6f5a7506b17c"
      },
      "source": [
        "model_5.fit(ds,epochs=30, callbacks= [reduce_lr_2], use_multiprocessing=True)"
      ],
      "execution_count": null,
      "outputs": [
        {
          "output_type": "stream",
          "text": [
            "Epoch 1/30\n",
            "782/782 [==============================] - 42s 54ms/step - loss: 2.2395 - accuracy: 0.3311\n",
            "Epoch 2/30\n",
            "782/782 [==============================] - 41s 53ms/step - loss: 1.8982 - accuracy: 0.4218\n",
            "Epoch 3/30\n",
            "782/782 [==============================] - 41s 53ms/step - loss: 1.4972 - accuracy: 0.5165\n",
            "Epoch 4/30\n",
            "782/782 [==============================] - 41s 53ms/step - loss: 1.2844 - accuracy: 0.5838\n",
            "Epoch 5/30\n",
            "782/782 [==============================] - 41s 53ms/step - loss: 1.1394 - accuracy: 0.6263\n",
            "Epoch 6/30\n",
            "782/782 [==============================] - 42s 53ms/step - loss: 1.0009 - accuracy: 0.6672\n",
            "Epoch 7/30\n",
            "782/782 [==============================] - 41s 53ms/step - loss: 0.8911 - accuracy: 0.7050\n",
            "Epoch 8/30\n",
            "782/782 [==============================] - 41s 53ms/step - loss: 0.7793 - accuracy: 0.7343\n",
            "Epoch 9/30\n",
            "782/782 [==============================] - 42s 53ms/step - loss: 0.7254 - accuracy: 0.7572\n",
            "Epoch 10/30\n",
            "782/782 [==============================] - 41s 53ms/step - loss: 0.6430 - accuracy: 0.7852\n",
            "Epoch 11/30\n",
            "782/782 [==============================] - 42s 53ms/step - loss: 0.5812 - accuracy: 0.8069\n",
            "Epoch 12/30\n",
            "782/782 [==============================] - 42s 53ms/step - loss: 0.5201 - accuracy: 0.8251\n",
            "Epoch 13/30\n",
            "782/782 [==============================] - 41s 53ms/step - loss: 0.4587 - accuracy: 0.8457\n",
            "Epoch 14/30\n",
            "782/782 [==============================] - 41s 53ms/step - loss: 0.4094 - accuracy: 0.8638\n",
            "Epoch 15/30\n",
            "782/782 [==============================] - 42s 53ms/step - loss: 0.3869 - accuracy: 0.8785\n",
            "Epoch 16/30\n",
            "782/782 [==============================] - 41s 53ms/step - loss: 0.3493 - accuracy: 0.8859\n",
            "Epoch 17/30\n",
            "782/782 [==============================] - 42s 53ms/step - loss: 0.3182 - accuracy: 0.8970\n",
            "Epoch 18/30\n",
            "782/782 [==============================] - 41s 53ms/step - loss: 0.3110 - accuracy: 0.9052\n",
            "Epoch 19/30\n",
            "782/782 [==============================] - 42s 53ms/step - loss: 0.2612 - accuracy: 0.9166\n",
            "Epoch 20/30\n",
            "782/782 [==============================] - 41s 53ms/step - loss: 0.2294 - accuracy: 0.9280\n",
            "Epoch 21/30\n",
            "782/782 [==============================] - 42s 53ms/step - loss: 0.2387 - accuracy: 0.9319\n",
            "Epoch 22/30\n",
            "782/782 [==============================] - 42s 53ms/step - loss: 0.1981 - accuracy: 0.9377\n",
            "Epoch 23/30\n",
            "782/782 [==============================] - 42s 53ms/step - loss: 0.1763 - accuracy: 0.9436\n",
            "Epoch 24/30\n",
            "782/782 [==============================] - 42s 53ms/step - loss: 0.1645 - accuracy: 0.9497\n",
            "Epoch 25/30\n",
            "782/782 [==============================] - 41s 53ms/step - loss: 0.1662 - accuracy: 0.9487\n",
            "Epoch 26/30\n",
            "782/782 [==============================] - 41s 53ms/step - loss: 0.1648 - accuracy: 0.9510\n",
            "Epoch 27/30\n",
            "782/782 [==============================] - 41s 53ms/step - loss: 0.1480 - accuracy: 0.9581\n",
            "Epoch 28/30\n",
            "782/782 [==============================] - 42s 53ms/step - loss: 0.1376 - accuracy: 0.9578\n",
            "Epoch 29/30\n",
            "782/782 [==============================] - 42s 54ms/step - loss: 0.1318 - accuracy: 0.9593\n",
            "Epoch 30/30\n",
            "782/782 [==============================] - 42s 54ms/step - loss: 0.1244 - accuracy: 0.9615\n"
          ],
          "name": "stdout"
        },
        {
          "output_type": "execute_result",
          "data": {
            "text/plain": [
              "<tensorflow.python.keras.callbacks.History at 0x7f7071559320>"
            ]
          },
          "metadata": {
            "tags": []
          },
          "execution_count": 18
        }
      ]
    },
    {
      "cell_type": "code",
      "metadata": {
        "id": "hCOHRzHX_PFC",
        "colab_type": "code",
        "colab": {
          "base_uri": "https://localhost:8080/",
          "height": 1000
        },
        "outputId": "e5c8c740-5c84-4a19-ce9a-d31cf1d7f785"
      },
      "source": [
        "model_6.fit(ds,epochs=30, callbacks= [reduce_lr_2], use_multiprocessing=True)"
      ],
      "execution_count": null,
      "outputs": [
        {
          "output_type": "stream",
          "text": [
            "Epoch 1/30\n",
            "782/782 [==============================] - 33s 42ms/step - loss: 2.2761 - accuracy: 0.3395\n",
            "Epoch 2/30\n",
            "782/782 [==============================] - 33s 42ms/step - loss: 1.7663 - accuracy: 0.4609\n",
            "Epoch 3/30\n",
            "782/782 [==============================] - 32s 41ms/step - loss: 1.5801 - accuracy: 0.5115\n",
            "Epoch 4/30\n",
            "782/782 [==============================] - 32s 41ms/step - loss: 1.4542 - accuracy: 0.5494\n",
            "Epoch 5/30\n",
            "782/782 [==============================] - 32s 41ms/step - loss: 1.3575 - accuracy: 0.5832\n",
            "Epoch 6/30\n",
            "782/782 [==============================] - 32s 41ms/step - loss: 1.2462 - accuracy: 0.6108\n",
            "Epoch 7/30\n",
            "782/782 [==============================] - 32s 41ms/step - loss: 1.1739 - accuracy: 0.6322\n",
            "Epoch 8/30\n",
            "782/782 [==============================] - 32s 41ms/step - loss: 1.0988 - accuracy: 0.6584\n",
            "Epoch 9/30\n",
            "782/782 [==============================] - 32s 41ms/step - loss: 1.0053 - accuracy: 0.6877\n",
            "Epoch 10/30\n",
            "782/782 [==============================] - 32s 41ms/step - loss: 0.8961 - accuracy: 0.7175\n",
            "Epoch 11/30\n",
            "782/782 [==============================] - 32s 41ms/step - loss: 0.8379 - accuracy: 0.7368\n",
            "Epoch 12/30\n",
            "782/782 [==============================] - 32s 41ms/step - loss: 0.7848 - accuracy: 0.7538\n",
            "Epoch 13/30\n",
            "782/782 [==============================] - 32s 41ms/step - loss: 0.6797 - accuracy: 0.7896\n",
            "Epoch 14/30\n",
            "782/782 [==============================] - 32s 41ms/step - loss: 0.5842 - accuracy: 0.8173\n",
            "Epoch 15/30\n",
            "782/782 [==============================] - 32s 41ms/step - loss: 0.5337 - accuracy: 0.8308\n",
            "Epoch 16/30\n",
            "782/782 [==============================] - 32s 41ms/step - loss: 0.4708 - accuracy: 0.8488\n",
            "Epoch 17/30\n",
            "782/782 [==============================] - 32s 41ms/step - loss: 0.3909 - accuracy: 0.8733\n",
            "Epoch 18/30\n",
            "782/782 [==============================] - 32s 41ms/step - loss: 0.3467 - accuracy: 0.8830\n",
            "Epoch 19/30\n",
            "782/782 [==============================] - 32s 41ms/step - loss: 0.3015 - accuracy: 0.8971\n",
            "Epoch 20/30\n",
            "782/782 [==============================] - 32s 41ms/step - loss: 0.2634 - accuracy: 0.9094\n",
            "Epoch 21/30\n",
            "782/782 [==============================] - 32s 41ms/step - loss: 0.2300 - accuracy: 0.9214\n",
            "Epoch 22/30\n",
            "782/782 [==============================] - 32s 41ms/step - loss: 0.2131 - accuracy: 0.9265\n",
            "Epoch 23/30\n",
            "782/782 [==============================] - 32s 41ms/step - loss: 0.1757 - accuracy: 0.9388\n",
            "Epoch 24/30\n",
            "782/782 [==============================] - 32s 41ms/step - loss: 0.1716 - accuracy: 0.9404\n",
            "Epoch 25/30\n",
            "782/782 [==============================] - 32s 41ms/step - loss: 0.1702 - accuracy: 0.9410\n",
            "Epoch 26/30\n",
            "782/782 [==============================] - 32s 41ms/step - loss: 0.1418 - accuracy: 0.9507\n",
            "Epoch 27/30\n",
            "782/782 [==============================] - 32s 41ms/step - loss: 0.1271 - accuracy: 0.9557\n",
            "Epoch 28/30\n",
            "782/782 [==============================] - 32s 41ms/step - loss: 0.1132 - accuracy: 0.9605\n",
            "Epoch 29/30\n",
            "782/782 [==============================] - 32s 41ms/step - loss: 0.1092 - accuracy: 0.9618\n",
            "Epoch 30/30\n",
            "782/782 [==============================] - 32s 41ms/step - loss: 0.0882 - accuracy: 0.9688\n"
          ],
          "name": "stdout"
        },
        {
          "output_type": "execute_result",
          "data": {
            "text/plain": [
              "<tensorflow.python.keras.callbacks.History at 0x7f70715592b0>"
            ]
          },
          "metadata": {
            "tags": []
          },
          "execution_count": 19
        }
      ]
    },
    {
      "cell_type": "code",
      "metadata": {
        "id": "_F5GnTxRFhi6",
        "colab_type": "code",
        "colab": {}
      },
      "source": [
        "accuracy_rmsprop = model_5.history.history['accuracy']\n",
        "loss_rmsprop = model_5.history.history['loss']"
      ],
      "execution_count": null,
      "outputs": []
    },
    {
      "cell_type": "code",
      "metadata": {
        "id": "2jXgA71fIF0K",
        "colab_type": "code",
        "colab": {}
      },
      "source": [
        "model_4.save('model_4.h5')\n",
        "model_5.save('model_5.h5')\n",
        "model_6.save('model_6.h5')"
      ],
      "execution_count": null,
      "outputs": []
    },
    {
      "cell_type": "code",
      "metadata": {
        "id": "6QzJX-7pFuep",
        "colab_type": "code",
        "colab": {}
      },
      "source": [
        "accuracy_adam = model_4.history.history['accuracy']\n",
        "loss_adam = model_4.history.history['loss']"
      ],
      "execution_count": null,
      "outputs": []
    },
    {
      "cell_type": "code",
      "metadata": {
        "id": "gU2kr6dBFzI6",
        "colab_type": "code",
        "colab": {}
      },
      "source": [
        "accuracy_sgd = model_6.history.history['accuracy']\n",
        "loss_sgd = model_6.history.history['loss']"
      ],
      "execution_count": null,
      "outputs": []
    },
    {
      "cell_type": "code",
      "metadata": {
        "id": "l3tcvtwBIIdl",
        "colab_type": "code",
        "colab": {
          "base_uri": "https://localhost:8080/",
          "height": 380
        },
        "outputId": "be804b54-684e-4553-bc30-5181e7c46c9d"
      },
      "source": [
        "plt.style.use('seaborn')\n",
        "plt.plot(accuracy_adam, '.-k', label='Adam')\n",
        "plt.plot(accuracy_rmsprop, '--r', label = 'RMSprop')\n",
        "plt.plot(accuracy_sgd, '*-b', label='SGD')\n",
        "plt.xlabel('Epochs')\n",
        "plt.ylabel('Accuracy')\n",
        "plt.legend(loc='best')"
      ],
      "execution_count": null,
      "outputs": [
        {
          "output_type": "execute_result",
          "data": {
            "text/plain": [
              "<matplotlib.legend.Legend at 0x7f70225b7a58>"
            ]
          },
          "metadata": {
            "tags": []
          },
          "execution_count": 25
        },
        {
          "output_type": "display_data",
          "data": {
            "image/png": "[encoded data removed]",
            "text/plain": [
              "<Figure size 576x396 with 1 Axes>"
            ]
          },
          "metadata": {
            "tags": []
          }
        }
      ]
    },
    {
      "cell_type": "code",
      "metadata": {
        "id": "fFOyeawbINwM",
        "colab_type": "code",
        "colab": {
          "base_uri": "https://localhost:8080/",
          "height": 378
        },
        "outputId": "a72d19ab-c72c-4986-9d05-27ecdc0d3db5"
      },
      "source": [
        "plt.plot(loss_adam, '.-k', label='Adam')\n",
        "plt.plot(loss_rmsprop, '--r', label = 'RMSprop')\n",
        "plt.plot(loss_sgd, '*-b', label='SGD')\n",
        "plt.xlabel('Epochs')\n",
        "plt.ylabel('Loss')\n",
        "plt.legend(loc='best')"
      ],
      "execution_count": null,
      "outputs": [
        {
          "output_type": "execute_result",
          "data": {
            "text/plain": [
              "<matplotlib.legend.Legend at 0x7f70220a79b0>"
            ]
          },
          "metadata": {
            "tags": []
          },
          "execution_count": 26
        },
        {
          "output_type": "display_data",
          "data": {
            "image/png": "[encoded data removed]",
            "text/plain": [
              "<Figure size 576x396 with 1 Axes>"
            ]
          },
          "metadata": {
            "tags": []
          }
        }
      ]
    },
    {
      "cell_type": "code",
      "metadata": {
        "id": "ZCzK8MvBIUJC",
        "colab_type": "code",
        "colab": {
          "base_uri": "https://localhost:8080/",
          "height": 34
        },
        "outputId": "c0801571-c708-4618-b2b1-edcd90f5d59d"
      },
      "source": [
        "test_acc_adam_res = model_4.evaluate(test_images, test_labels, batch_size=32, use_multiprocessing=True)"
      ],
      "execution_count": null,
      "outputs": [
        {
          "output_type": "stream",
          "text": [
            "313/313 [==============================] - 3s 9ms/step - loss: 1.4154 - accuracy: 0.7360\n"
          ],
          "name": "stdout"
        }
      ]
    },
    {
      "cell_type": "code",
      "metadata": {
        "id": "pNIIv290Ig3Q",
        "colab_type": "code",
        "colab": {
          "base_uri": "https://localhost:8080/",
          "height": 34
        },
        "outputId": "55c94656-f454-4b54-e983-ee3ca3b72951"
      },
      "source": [
        "test_acc_rmsprop_res = model_5.evaluate(test_images, test_labels, batch_size=32, use_multiprocessing=True)"
      ],
      "execution_count": null,
      "outputs": [
        {
          "output_type": "stream",
          "text": [
            "313/313 [==============================] - 3s 9ms/step - loss: 4.9028 - accuracy: 0.5196\n"
          ],
          "name": "stdout"
        }
      ]
    },
    {
      "cell_type": "code",
      "metadata": {
        "id": "1f6_Xl3BIn8t",
        "colab_type": "code",
        "colab": {
          "base_uri": "https://localhost:8080/",
          "height": 34
        },
        "outputId": "f9d6106d-edf9-42d7-e640-debddf2ea7ae"
      },
      "source": [
        "test_acc_sgd_res = model_6.evaluate(test_images, test_labels, batch_size=32, use_multiprocessing=True)"
      ],
      "execution_count": null,
      "outputs": [
        {
          "output_type": "stream",
          "text": [
            "313/313 [==============================] - 3s 9ms/step - loss: 2.4278 - accuracy: 0.5799\n"
          ],
          "name": "stdout"
        }
      ]
    },
    {
      "cell_type": "code",
      "metadata": {
        "id": "rXDy2Q2oItO3",
        "colab_type": "code",
        "colab": {}
      },
      "source": [
        ""
      ],
      "execution_count": null,
      "outputs": []
    },
    {
      "cell_type": "markdown",
      "metadata": {
        "id": "FsjwEyr6M_tz",
        "colab_type": "text"
      },
      "source": [
        "# Observations"
      ]
    },
    {
      "cell_type": "markdown",
      "metadata": {
        "id": "h6DtEvOqM-NR",
        "colab_type": "text"
      },
      "source": [
        "**Architecture chosen: DenseNet121**\n",
        "\n",
        "Trained with 3 different optimizers: Adam, RMSprop, SGD. \n",
        "\n",
        "Accuarcy comparison: Trained for 20 epochs , Adam and Rmsprop is performing almost the same, but Adam, slightly better at 96.88% and RMSprop at 96.61% training accuracy. But we can see the model is overfitting. SGD is performing the worst of all with 94% training accuracy, which was not expected. \n",
        "Test accuracy for all the optimizers is not up to the mark. SGD performs worst with 57% test accuracy. \n",
        "\n",
        "Loss comparison: RMSprop and SGD shows a convex curve with no major fluctuation, where the loss decreases eventually. But we can see some fluctuations in the loss graph for Adam between 8 to 15 epochs."
      ]
    },
    {
      "cell_type": "markdown",
      "metadata": {
        "id": "WHYrFYc0I8Sx",
        "colab_type": "text"
      },
      "source": [
        "**Architecture chosen: Resnet50**\n",
        "\n",
        "Trained with 3 different optimizers: Adam, RMSprop, SGD.\n",
        "\n",
        "Accuarcy comparison: Trained for 30 epochs , all the optimizers are performing almost similar. But we can see the model is overfitting. SGD is performing better with resnet model compared to densenet. There is a lot of fluctuation in the accuracy curve of the model using adam optimizer. \n",
        "\n",
        "Loss comparison: RMSprop shows a convex curve with no major fluctuation, where the loss decreases eventually. But we can see some fluctuations in the loss graph for SGD between 10 to 13 epochs. Similar to the fluctuations of accuracy curve of the model using adam optimizer, loss curve also behaves the same. "
      ]
    },
    {
      "cell_type": "code",
      "metadata": {
        "id": "aG8saOWrK5r3",
        "colab_type": "code",
        "colab": {}
      },
      "source": [
        ""
      ],
      "execution_count": null,
      "outputs": []
    },
    {
      "cell_type": "markdown",
      "metadata": {
        "id": "lbYI3BrrK71q",
        "colab_type": "text"
      },
      "source": [
        "**Comparing Densenet and Rensenet**"
      ]
    },
    {
      "cell_type": "markdown",
      "metadata": {
        "id": "TIf-YAB9LHDo",
        "colab_type": "text"
      },
      "source": [
        "The first observation which is evident is that Densenet outperforms Resnet. Both the models overfit for this dataset. SGD and RMSprop work well with Densenet architecture, which is not the case in our example. Also we can see that Densenet converges faster than Resnet. \n",
        "\n",
        "Comparing the performance on test data: Densenet architecture with RMSprop optimizer works better on test data compared to other optimizers used and Resnet with all the three optimizers. "
      ]
    },
    {
      "cell_type": "code",
      "metadata": {
        "id": "EgkDhh4_MXml",
        "colab_type": "code",
        "colab": {}
      },
      "source": [
        ""
      ],
      "execution_count": null,
      "outputs": []
    }
  ]
}