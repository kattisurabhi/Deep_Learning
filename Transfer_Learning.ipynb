{
 "cells": [
  {
   "cell_type": "code",
   "execution_count": null,
   "metadata": {
    "colab": {},
    "colab_type": "code",
    "id": "HtXXjr3rcX4-"
   },
   "outputs": [],
   "source": [
    "import numpy as np\n",
    "import tensorflow as tf\n",
    "import matplotlib.pyplot as plt\n",
    "from tensorflow.keras.layers import Input, Add, Dense, Activation, BatchNormalization, Flatten, Conv2D, AveragePooling2D, MaxPooling2D, GlobalMaxPooling2D, Dropout\n",
    "from tensorflow.keras.models import Model, load_model, Sequential\n",
    "import os\n",
    "import sys"
   ]
  },
  {
   "cell_type": "code",
   "execution_count": null,
   "metadata": {
    "colab": {
     "base_uri": "https://localhost:8080/",
     "height": 51
    },
    "colab_type": "code",
    "id": "sN_KpZClcpjz",
    "outputId": "74ef3e88-d0c2-486a-8e65-c434ed30141f"
   },
   "outputs": [
    {
     "name": "stdout",
     "output_type": "stream",
     "text": [
      "Downloading data from https://storage.googleapis.com/tensorflow/tf-keras-datasets/mnist.npz\n",
      "11493376/11490434 [==============================] - 0s 0us/step\n"
     ]
    }
   ],
   "source": [
    "train_images, test_images = tf.keras.datasets.mnist.load_data()"
   ]
  },
  {
   "cell_type": "code",
   "execution_count": null,
   "metadata": {
    "colab": {},
    "colab_type": "code",
    "id": "UL0vcDLGpl9Z"
   },
   "outputs": [],
   "source": [
    "images, labels = train_images"
   ]
  },
  {
   "cell_type": "code",
   "execution_count": null,
   "metadata": {
    "colab": {},
    "colab_type": "code",
    "id": "kXNAutnipqUR"
   },
   "outputs": [],
   "source": [
    "data = {}\n",
    "data['images'] = images\n",
    "data['labels'] = labels\n",
    "\n",
    "data.keys()\n",
    "\n",
    "index = data['labels']<7"
   ]
  },
  {
   "cell_type": "markdown",
   "metadata": {
    "colab_type": "text",
    "id": "xxQRe5DzYPT0"
   },
   "source": [
    "## Task 1"
   ]
  },
  {
   "cell_type": "markdown",
   "metadata": {
    "colab_type": "text",
    "id": "GgxmybZjT0qh"
   },
   "source": [
    "Lets use dictionories to split the data into Source and the Target Domain."
   ]
  },
  {
   "cell_type": "code",
   "execution_count": null,
   "metadata": {
    "colab": {},
    "colab_type": "code",
    "id": "r6tKAFnppzpR"
   },
   "outputs": [],
   "source": [
    "source_images, source_labels = data['images'][index], data['labels'][index];\n",
    "target_images, target_labels = data['images'][~index], data['labels'][~index];"
   ]
  },
  {
   "cell_type": "code",
   "execution_count": null,
   "metadata": {
    "colab": {
     "base_uri": "https://localhost:8080/",
     "height": 51
    },
    "colab_type": "code",
    "id": "P7heCluKrZpz",
    "outputId": "59b8c203-1c8d-443f-acca-e5eb78dca8d1"
   },
   "outputs": [
    {
     "name": "stdout",
     "output_type": "stream",
     "text": [
      "(41935, 28, 28) (41935,)\n",
      "(18065, 28, 28) (18065,)\n"
     ]
    }
   ],
   "source": [
    "print(source_images.shape, source_labels.shape)\n",
    "print(target_images.shape, target_labels.shape)"
   ]
  },
  {
   "cell_type": "markdown",
   "metadata": {
    "colab_type": "text",
    "id": "7jLpM4yZT-Ra"
   },
   "source": [
    "The Sorce domain has many samples as there are 7 classes whilst the target data has the remaining 3 classes."
   ]
  },
  {
   "cell_type": "code",
   "execution_count": null,
   "metadata": {
    "colab": {},
    "colab_type": "code",
    "id": "HaXHjqXs4ZSY"
   },
   "outputs": [],
   "source": [
    "source_images = (source_images/255.0)\n",
    "source_images = source_images.astype(np.float32)\n",
    "source_images = source_images.reshape(source_images.shape[0], 28, 28, 1);\n",
    "source_labels = source_labels.astype(np.int32)\n",
    "\n",
    "source_limit = int(0.8*source_images.shape[0])\n",
    "\n",
    "source_test_images = source_images[source_limit:-1]\n",
    "source_test_labels = source_labels[source_limit:-1]\n",
    "\n",
    "target_images = (target_images/255.0)\n",
    "target_images = target_images.astype(np.float32)\n",
    "target_labels = target_labels.astype(np.int32)\n",
    "\n",
    "target_limit = int(0.8*target_images.shape[0])\n",
    "target_images = target_images.reshape(target_images.shape[0], 28, 28, 1)\n",
    "target_test_images = target_images[target_limit:-1]\n",
    "target_test_labels = target_labels[target_limit:-1]\n",
    "\n",
    "\n",
    "\n",
    "input_shape = source_images[0].shape\n",
    "n_channels = input_shape[-1]\n",
    "\n",
    "dataset_source = tf.data.Dataset.from_tensor_slices((source_images[0:source_limit], source_labels[0:source_limit]))\n",
    "dataset_target = tf.data.Dataset.from_tensor_slices((target_images[0:target_limit], target_labels[0:target_limit]))\n",
    "# Creating the data batches\n",
    "\n",
    "ds_source = dataset_source.shuffle(5000).batch(64)\n",
    "ds_target = dataset_target.shuffle(5000).batch(64)"
   ]
  },
  {
   "cell_type": "markdown",
   "metadata": {
    "colab_type": "text",
    "id": "xXYI3HisULh4"
   },
   "source": [
    "Normalising and getting the data into right formats for easier training process. "
   ]
  },
  {
   "cell_type": "markdown",
   "metadata": {
    "colab_type": "text",
    "id": "OvGPXTxeUVN7"
   },
   "source": [
    "The Source and Target domain model has the same architecture with diffenrent output layers, so as to compare the performance of the Networks."
   ]
  },
  {
   "cell_type": "code",
   "execution_count": null,
   "metadata": {
    "colab": {},
    "colab_type": "code",
    "id": "raBTPrYzrbwx"
   },
   "outputs": [],
   "source": [
    "model_source = Sequential() \n",
    "model_source.add(Conv2D(10, kernel_size=(3,3), input_shape=input_shape))\n",
    "model_source.add(MaxPooling2D(pool_size=(2,2)))\n",
    "model_source.add(Flatten())\n",
    "model_source.add(Dense(15,activation = tf.nn.relu))\n",
    "model_source.add(Dropout(0.3))\n",
    "model_source.add(Dense(7,activation=tf.nn.softmax))"
   ]
  },
  {
   "cell_type": "markdown",
   "metadata": {
    "colab_type": "text",
    "id": "_7T2dyKnUjdn"
   },
   "source": [
    "It is important to describe the model at every stage as it helps us keep the track of layers and prameters as we proceed to Transfer Learning."
   ]
  },
  {
   "cell_type": "code",
   "execution_count": null,
   "metadata": {
    "colab": {
     "base_uri": "https://localhost:8080/",
     "height": 357
    },
    "colab_type": "code",
    "id": "HR1MgsTq08DP",
    "outputId": "752fc811-1477-498b-9043-ebb6e70feaac"
   },
   "outputs": [
    {
     "name": "stdout",
     "output_type": "stream",
     "text": [
      "Model: \"sequential\"\n",
      "_________________________________________________________________\n",
      "Layer (type)                 Output Shape              Param #   \n",
      "=================================================================\n",
      "conv2d (Conv2D)              (None, 26, 26, 10)        100       \n",
      "_________________________________________________________________\n",
      "max_pooling2d (MaxPooling2D) (None, 13, 13, 10)        0         \n",
      "_________________________________________________________________\n",
      "flatten (Flatten)            (None, 1690)              0         \n",
      "_________________________________________________________________\n",
      "dense (Dense)                (None, 15)                25365     \n",
      "_________________________________________________________________\n",
      "dropout (Dropout)            (None, 15)                0         \n",
      "_________________________________________________________________\n",
      "dense_1 (Dense)              (None, 7)                 112       \n",
      "=================================================================\n",
      "Total params: 25,577\n",
      "Trainable params: 25,577\n",
      "Non-trainable params: 0\n",
      "_________________________________________________________________\n"
     ]
    }
   ],
   "source": [
    "model_source.compile(optimizer='Adam', loss = tf.keras.losses.SparseCategoricalCrossentropy(), metrics='accuracy')\n",
    "model_source.summary()"
   ]
  },
  {
   "cell_type": "code",
   "execution_count": null,
   "metadata": {
    "colab": {
     "base_uri": "https://localhost:8080/",
     "height": 374
    },
    "colab_type": "code",
    "id": "q2SGLf1qsZDL",
    "outputId": "5f62b14b-7ce0-4f3b-e4ec-00bd5bc71fc2"
   },
   "outputs": [
    {
     "name": "stdout",
     "output_type": "stream",
     "text": [
      "Epoch 1/10\n",
      "525/525 - 1s - loss: 0.5688 - accuracy: 0.8088\n",
      "Epoch 2/10\n",
      "525/525 - 1s - loss: 0.3712 - accuracy: 0.8770\n",
      "Epoch 3/10\n",
      "525/525 - 1s - loss: 0.3239 - accuracy: 0.8928\n",
      "Epoch 4/10\n",
      "525/525 - 1s - loss: 0.2809 - accuracy: 0.9076\n",
      "Epoch 5/10\n",
      "525/525 - 1s - loss: 0.2389 - accuracy: 0.9219\n",
      "Epoch 6/10\n",
      "525/525 - 1s - loss: 0.2199 - accuracy: 0.9267\n",
      "Epoch 7/10\n",
      "525/525 - 1s - loss: 0.1979 - accuracy: 0.9328\n",
      "Epoch 8/10\n",
      "525/525 - 1s - loss: 0.1852 - accuracy: 0.9367\n",
      "Epoch 9/10\n",
      "525/525 - 1s - loss: 0.1657 - accuracy: 0.9439\n",
      "Epoch 10/10\n",
      "525/525 - 1s - loss: 0.1594 - accuracy: 0.9447\n"
     ]
    },
    {
     "data": {
      "text/plain": [
       "<tensorflow.python.keras.callbacks.History at 0x7fb782e28630>"
      ]
     },
     "execution_count": 10,
     "metadata": {
      "tags": []
     },
     "output_type": "execute_result"
    }
   ],
   "source": [
    "model_source.fit(ds_source, batch_size=64, epochs=10, verbose=2, use_multiprocessing=True)"
   ]
  },
  {
   "cell_type": "markdown",
   "metadata": {
    "colab_type": "text",
    "id": "gBDn5WhBVHRR"
   },
   "source": [
    "Training the Source model to compare the performance later after transfer learning."
   ]
  },
  {
   "cell_type": "markdown",
   "metadata": {
    "colab_type": "text",
    "id": "oY_880H6VXsg"
   },
   "source": [
    "Defining the target model and training the target model separately. "
   ]
  },
  {
   "cell_type": "code",
   "execution_count": null,
   "metadata": {
    "colab": {},
    "colab_type": "code",
    "id": "2zzs_9LPsk2a"
   },
   "outputs": [],
   "source": [
    "model_target = Sequential() \n",
    "model_target.add(Conv2D(10, kernel_size=(3,3), input_shape=input_shape))\n",
    "model_target.add(MaxPooling2D(pool_size=(2,2)))\n",
    "model_target.add(Flatten())\n",
    "model_target.add(Dense(15,activation = tf.nn.relu))\n",
    "model_target.add(Dropout(0.3))\n",
    "model_target.add(Dense(10, activation='softmax'))"
   ]
  },
  {
   "cell_type": "code",
   "execution_count": null,
   "metadata": {
    "colab": {
     "base_uri": "https://localhost:8080/",
     "height": 357
    },
    "colab_type": "code",
    "id": "IV6t0Utt8iEZ",
    "outputId": "576689a6-6f53-45a2-a962-9ff52a5c07d6"
   },
   "outputs": [
    {
     "name": "stdout",
     "output_type": "stream",
     "text": [
      "Model: \"sequential_1\"\n",
      "_________________________________________________________________\n",
      "Layer (type)                 Output Shape              Param #   \n",
      "=================================================================\n",
      "conv2d_1 (Conv2D)            (None, 26, 26, 10)        100       \n",
      "_________________________________________________________________\n",
      "max_pooling2d_1 (MaxPooling2 (None, 13, 13, 10)        0         \n",
      "_________________________________________________________________\n",
      "flatten_1 (Flatten)          (None, 1690)              0         \n",
      "_________________________________________________________________\n",
      "dense_2 (Dense)              (None, 15)                25365     \n",
      "_________________________________________________________________\n",
      "dropout_1 (Dropout)          (None, 15)                0         \n",
      "_________________________________________________________________\n",
      "dense_3 (Dense)              (None, 10)                160       \n",
      "=================================================================\n",
      "Total params: 25,625\n",
      "Trainable params: 25,625\n",
      "Non-trainable params: 0\n",
      "_________________________________________________________________\n"
     ]
    }
   ],
   "source": [
    "model_target.compile(optimizer='Adam', loss = tf.keras.losses.SparseCategoricalCrossentropy(), metrics='accuracy')\n",
    "model_target.summary()"
   ]
  },
  {
   "cell_type": "code",
   "execution_count": null,
   "metadata": {
    "colab": {
     "base_uri": "https://localhost:8080/",
     "height": 374
    },
    "colab_type": "code",
    "id": "pFYfD1Ap_dQU",
    "outputId": "7a5bd5dd-6d7f-48c0-d9bc-334731b8afdd"
   },
   "outputs": [
    {
     "name": "stdout",
     "output_type": "stream",
     "text": [
      "Epoch 1/10\n",
      "226/226 - 0s - loss: 0.5938 - accuracy: 0.8031\n",
      "Epoch 2/10\n",
      "226/226 - 0s - loss: 0.2312 - accuracy: 0.9188\n",
      "Epoch 3/10\n",
      "226/226 - 0s - loss: 0.1868 - accuracy: 0.9373\n",
      "Epoch 4/10\n",
      "226/226 - 0s - loss: 0.1764 - accuracy: 0.9378\n",
      "Epoch 5/10\n",
      "226/226 - 1s - loss: 0.1672 - accuracy: 0.9450\n",
      "Epoch 6/10\n",
      "226/226 - 1s - loss: 0.1555 - accuracy: 0.9464\n",
      "Epoch 7/10\n",
      "226/226 - 1s - loss: 0.1499 - accuracy: 0.9509\n",
      "Epoch 8/10\n",
      "226/226 - 0s - loss: 0.1428 - accuracy: 0.9514\n",
      "Epoch 9/10\n",
      "226/226 - 0s - loss: 0.1340 - accuracy: 0.9561\n",
      "Epoch 10/10\n",
      "226/226 - 0s - loss: 0.1275 - accuracy: 0.9587\n"
     ]
    },
    {
     "data": {
      "text/plain": [
       "<tensorflow.python.keras.callbacks.History at 0x7fb6ebfd1748>"
      ]
     },
     "execution_count": 13,
     "metadata": {
      "tags": []
     },
     "output_type": "execute_result"
    }
   ],
   "source": [
    "model_target.fit(ds_target, batch_size=64, epochs=10, verbose=2, use_multiprocessing=True)"
   ]
  },
  {
   "cell_type": "markdown",
   "metadata": {
    "colab_type": "text",
    "id": "BO51vnIJV8wx"
   },
   "source": [
    "Evaluationg our Source and Target models."
   ]
  },
  {
   "cell_type": "code",
   "execution_count": null,
   "metadata": {
    "colab": {
     "base_uri": "https://localhost:8080/",
     "height": 51
    },
    "colab_type": "code",
    "id": "52pGCRfMAB8B",
    "outputId": "baf91029-d44f-4e87-85c7-a424876571b1"
   },
   "outputs": [
    {
     "name": "stdout",
     "output_type": "stream",
     "text": [
      "263/263 [==============================] - 1s 2ms/step - loss: 0.0653 - accuracy: 0.9815\n"
     ]
    },
    {
     "data": {
      "text/plain": [
       "[0.06533998250961304, 0.9815168380737305]"
      ]
     },
     "execution_count": 14,
     "metadata": {
      "tags": []
     },
     "output_type": "execute_result"
    }
   ],
   "source": [
    "model_source.evaluate(x = source_test_images, y = source_test_labels, batch_size=32, verbose=1)"
   ]
  },
  {
   "cell_type": "code",
   "execution_count": null,
   "metadata": {
    "colab": {
     "base_uri": "https://localhost:8080/",
     "height": 51
    },
    "colab_type": "code",
    "id": "-3Mv6nC8AHfR",
    "outputId": "5dc29a9c-bb5c-47cd-dce7-bdd1e080b9ba"
   },
   "outputs": [
    {
     "name": "stdout",
     "output_type": "stream",
     "text": [
      "113/113 [==============================] - 0s 2ms/step - loss: 0.0739 - accuracy: 0.9743\n"
     ]
    },
    {
     "data": {
      "text/plain": [
       "[0.0738743469119072, 0.974252462387085]"
      ]
     },
     "execution_count": 15,
     "metadata": {
      "tags": []
     },
     "output_type": "execute_result"
    }
   ],
   "source": [
    "model_target.evaluate(target_test_images, target_test_labels, 32, verbose=1)"
   ]
  },
  {
   "cell_type": "code",
   "execution_count": null,
   "metadata": {
    "colab": {
     "base_uri": "https://localhost:8080/",
     "height": 34
    },
    "colab_type": "code",
    "id": "xR7xzh7YKkZa",
    "outputId": "c18083ce-f260-47d1-b339-f424d83490e4"
   },
   "outputs": [
    {
     "data": {
      "text/plain": [
       "(3612, 28, 28, 1)"
      ]
     },
     "execution_count": 16,
     "metadata": {
      "tags": []
     },
     "output_type": "execute_result"
    }
   ],
   "source": [
    "target_test_images.shape"
   ]
  },
  {
   "cell_type": "markdown",
   "metadata": {
    "colab_type": "text",
    "id": "f3iCx00yWP4I"
   },
   "source": [
    "Let us create a flag model now use the trained model and drop the layers of the trained model without disturbing the trained model to be used later on."
   ]
  },
  {
   "cell_type": "code",
   "execution_count": null,
   "metadata": {
    "colab": {
     "base_uri": "https://localhost:8080/",
     "height": 357
    },
    "colab_type": "code",
    "id": "zhSJ1jBRH7Hl",
    "outputId": "f667576d-8ace-4c13-f319-0531801cf359"
   },
   "outputs": [
    {
     "name": "stdout",
     "output_type": "stream",
     "text": [
      "Model: \"sequential\"\n",
      "_________________________________________________________________\n",
      "Layer (type)                 Output Shape              Param #   \n",
      "=================================================================\n",
      "conv2d (Conv2D)              (None, 26, 26, 10)        100       \n",
      "_________________________________________________________________\n",
      "max_pooling2d (MaxPooling2D) (None, 13, 13, 10)        0         \n",
      "_________________________________________________________________\n",
      "flatten (Flatten)            (None, 1690)              0         \n",
      "_________________________________________________________________\n",
      "dense (Dense)                (None, 15)                25365     \n",
      "_________________________________________________________________\n",
      "dropout (Dropout)            (None, 15)                0         \n",
      "_________________________________________________________________\n",
      "dense_1 (Dense)              (None, 7)                 112       \n",
      "=================================================================\n",
      "Total params: 25,577\n",
      "Trainable params: 25,577\n",
      "Non-trainable params: 0\n",
      "_________________________________________________________________\n"
     ]
    }
   ],
   "source": [
    "flag_model = tf.keras.models.clone_model(model_source)\n",
    "flag_model.summary()"
   ]
  },
  {
   "cell_type": "markdown",
   "metadata": {
    "colab_type": "text",
    "id": "fgJXyzIrXQ3g"
   },
   "source": [
    "The flag model now has the same trained parameters as the source model."
   ]
  },
  {
   "cell_type": "code",
   "execution_count": null,
   "metadata": {
    "colab": {
     "base_uri": "https://localhost:8080/",
     "height": 357
    },
    "colab_type": "code",
    "id": "x6cfG7sHLm1N",
    "outputId": "5b56140d-582c-4a29-bf0f-81a9e1bb5131"
   },
   "outputs": [
    {
     "name": "stdout",
     "output_type": "stream",
     "text": [
      "Model: \"functional_1\"\n",
      "_________________________________________________________________\n",
      "Layer (type)                 Output Shape              Param #   \n",
      "=================================================================\n",
      "conv2d_input (InputLayer)    [(None, 28, 28, 1)]       0         \n",
      "_________________________________________________________________\n",
      "conv2d (Conv2D)              (None, 26, 26, 10)        100       \n",
      "_________________________________________________________________\n",
      "max_pooling2d (MaxPooling2D) (None, 13, 13, 10)        0         \n",
      "_________________________________________________________________\n",
      "flatten (Flatten)            (None, 1690)              0         \n",
      "_________________________________________________________________\n",
      "dense (Dense)                (None, 15)                25365     \n",
      "_________________________________________________________________\n",
      "dropout (Dropout)            (None, 15)                0         \n",
      "=================================================================\n",
      "Total params: 25,465\n",
      "Trainable params: 25,465\n",
      "Non-trainable params: 0\n",
      "_________________________________________________________________\n"
     ]
    }
   ],
   "source": [
    "flag_model = Model(flag_model.input, flag_model.layers[-2].output)\n",
    "flag_model.summary()"
   ]
  },
  {
   "cell_type": "markdown",
   "metadata": {
    "colab_type": "text",
    "id": "RMKWRsj_W6pb"
   },
   "source": [
    "The flag model after dropping the layer."
   ]
  },
  {
   "cell_type": "markdown",
   "metadata": {
    "colab_type": "text",
    "id": "M3CrKHZDXaxF"
   },
   "source": [
    "Lets use the last layer of the Target model on the source model and train it and then compare the performance of the Network."
   ]
  },
  {
   "cell_type": "code",
   "execution_count": null,
   "metadata": {
    "colab": {},
    "colab_type": "code",
    "id": "G5kYhBErQ09Q"
   },
   "outputs": [],
   "source": [
    "t_model = Sequential()\n",
    "t_model.add(flag_model)\n",
    "t_model.add(model_target.get_layer(index=-1))"
   ]
  },
  {
   "cell_type": "code",
   "execution_count": null,
   "metadata": {
    "colab": {
     "base_uri": "https://localhost:8080/",
     "height": 221
    },
    "colab_type": "code",
    "id": "uD9vuuUvOqcv",
    "outputId": "41463f6e-e192-4cc6-9c34-14dff062e82f"
   },
   "outputs": [
    {
     "name": "stdout",
     "output_type": "stream",
     "text": [
      "Model: \"sequential_2\"\n",
      "_________________________________________________________________\n",
      "Layer (type)                 Output Shape              Param #   \n",
      "=================================================================\n",
      "functional_1 (Functional)    (None, 15)                25465     \n",
      "_________________________________________________________________\n",
      "dense_3 (Dense)              (None, 10)                160       \n",
      "=================================================================\n",
      "Total params: 25,625\n",
      "Trainable params: 25,625\n",
      "Non-trainable params: 0\n",
      "_________________________________________________________________\n"
     ]
    }
   ],
   "source": [
    "t_model.summary()"
   ]
  },
  {
   "cell_type": "code",
   "execution_count": null,
   "metadata": {
    "colab": {},
    "colab_type": "code",
    "id": "fJwP8e_yPbjW"
   },
   "outputs": [],
   "source": [
    "t_model.compile(optimizer='Adam', loss = tf.keras.losses.SparseCategoricalCrossentropy(), metrics='accuracy')"
   ]
  },
  {
   "cell_type": "code",
   "execution_count": null,
   "metadata": {
    "colab": {
     "base_uri": "https://localhost:8080/",
     "height": 374
    },
    "colab_type": "code",
    "id": "MMyuKpTHS4lJ",
    "outputId": "bb9017ad-b9a0-4121-a323-6cf33a73ee8e"
   },
   "outputs": [
    {
     "name": "stdout",
     "output_type": "stream",
     "text": [
      "Epoch 1/10\n",
      "226/226 - 1s - loss: 0.3845 - accuracy: 0.8611\n",
      "Epoch 2/10\n",
      "226/226 - 1s - loss: 0.1803 - accuracy: 0.9361\n",
      "Epoch 3/10\n",
      "226/226 - 1s - loss: 0.1445 - accuracy: 0.9508\n",
      "Epoch 4/10\n",
      "226/226 - 1s - loss: 0.1323 - accuracy: 0.9546\n",
      "Epoch 5/10\n",
      "226/226 - 0s - loss: 0.1186 - accuracy: 0.9604\n",
      "Epoch 6/10\n",
      "226/226 - 0s - loss: 0.1061 - accuracy: 0.9639\n",
      "Epoch 7/10\n",
      "226/226 - 0s - loss: 0.0986 - accuracy: 0.9673\n",
      "Epoch 8/10\n",
      "226/226 - 1s - loss: 0.0892 - accuracy: 0.9710\n",
      "Epoch 9/10\n",
      "226/226 - 0s - loss: 0.0827 - accuracy: 0.9707\n",
      "Epoch 10/10\n",
      "226/226 - 0s - loss: 0.0785 - accuracy: 0.9742\n"
     ]
    },
    {
     "data": {
      "text/plain": [
       "<tensorflow.python.keras.callbacks.History at 0x7fb6ea621c50>"
      ]
     },
     "execution_count": 22,
     "metadata": {
      "tags": []
     },
     "output_type": "execute_result"
    }
   ],
   "source": [
    "t_model.fit(ds_target, batch_size=64, epochs=10, verbose=2, use_multiprocessing=True)"
   ]
  },
  {
   "cell_type": "code",
   "execution_count": null,
   "metadata": {
    "colab": {
     "base_uri": "https://localhost:8080/",
     "height": 51
    },
    "colab_type": "code",
    "id": "B8FFalsXTWFP",
    "outputId": "3dbdedb2-47bf-46d1-a10d-033e675b63fe"
   },
   "outputs": [
    {
     "name": "stdout",
     "output_type": "stream",
     "text": [
      "113/113 [==============================] - 0s 2ms/step - loss: 0.0591 - accuracy: 0.9806\n"
     ]
    },
    {
     "data": {
      "text/plain": [
       "[0.059141792356967926, 0.9806201457977295]"
      ]
     },
     "execution_count": 23,
     "metadata": {
      "tags": []
     },
     "output_type": "execute_result"
    }
   ],
   "source": [
    "t_model.evaluate(target_test_images, target_test_labels, 32, verbose=1)"
   ]
  },
  {
   "cell_type": "markdown",
   "metadata": {
    "colab_type": "text",
    "id": "s2BaJJW-Xzyk"
   },
   "source": [
    "The test acuuracy is significantly improved, the hidden\n",
    "layers are trained on the Source data and the classification layer is trained on the Target data.\n",
    "\n",
    "\n",
    "\n"
   ]
  },
  {
   "cell_type": "markdown",
   "metadata": {
    "colab_type": "text",
    "id": "NaCY9PNmSNW9"
   },
   "source": [
    "## Observations"
   ]
  },
  {
   "cell_type": "markdown",
   "metadata": {
    "colab_type": "text",
    "id": "-hcZC5JxSQy-"
   },
   "source": [
    "How well did the transfer learning work, compared to training on the target data set from scratch?\n",
    "You can e.g. compare:\n",
    "\n",
    "achieved accuracy\n",
    "\n",
    "steps until convergence\n",
    "\n",
    "generalization"
   ]
  },
  {
   "cell_type": "markdown",
   "metadata": {
    "colab_type": "text",
    "id": "e4oIEDPpSvyS"
   },
   "source": [
    "The source model and target model accuracy before transfer learning is outstanding at 98% and 97% respectively. The final model where the last layer to the source domain is the last layer of the target domain. Test accuracy is significantly improved after transfer learning at 98% for the target domain. One thing to be noted here is the learning is faster through transfer learning. "
   ]
  },
  {
   "cell_type": "markdown",
   "metadata": {
    "colab_type": "text",
    "id": "8aIX7i7sYTad"
   },
   "source": [
    "## Task 2"
   ]
  },
  {
   "cell_type": "markdown",
   "metadata": {
    "colab_type": "text",
    "id": "1qwU71uuk6qc"
   },
   "source": [
    "### Task 2.1"
   ]
  },
  {
   "cell_type": "markdown",
   "metadata": {
    "colab_type": "text",
    "id": "JnTrZs-YcTkh"
   },
   "source": [
    "Doing the same with MNIST and FMNIST.\n",
    "\n",
    "Mnist as target and Fmnist as source."
   ]
  },
  {
   "cell_type": "code",
   "execution_count": null,
   "metadata": {
    "colab": {
     "base_uri": "https://localhost:8080/",
     "height": 153
    },
    "colab_type": "code",
    "id": "RVTSiNOTYUjZ",
    "outputId": "24351f21-307f-4777-a8cb-2ce85fe8d5fd"
   },
   "outputs": [
    {
     "name": "stdout",
     "output_type": "stream",
     "text": [
      "Downloading data from https://storage.googleapis.com/tensorflow/tf-keras-datasets/train-labels-idx1-ubyte.gz\n",
      "32768/29515 [=================================] - 0s 0us/step\n",
      "Downloading data from https://storage.googleapis.com/tensorflow/tf-keras-datasets/train-images-idx3-ubyte.gz\n",
      "26427392/26421880 [==============================] - 0s 0us/step\n",
      "Downloading data from https://storage.googleapis.com/tensorflow/tf-keras-datasets/t10k-labels-idx1-ubyte.gz\n",
      "8192/5148 [===============================================] - 0s 0us/step\n",
      "Downloading data from https://storage.googleapis.com/tensorflow/tf-keras-datasets/t10k-images-idx3-ubyte.gz\n",
      "4423680/4422102 [==============================] - 0s 0us/step\n"
     ]
    }
   ],
   "source": [
    "source_train, source_test = tf.keras.datasets.fashion_mnist.load_data()\n",
    "source_train_images, source_train_labels = source_train\n",
    "source_test_images, source_test_labels = source_test"
   ]
  },
  {
   "cell_type": "code",
   "execution_count": null,
   "metadata": {
    "colab": {},
    "colab_type": "code",
    "id": "zrbIiX6gcyFc"
   },
   "outputs": [],
   "source": [
    "target_train, target_test = tf.keras.datasets.mnist.load_data()\n",
    "target_train_images, target_train_labels = target_train\n",
    "target_test_images, target_test_labels = target_test"
   ]
  },
  {
   "cell_type": "code",
   "execution_count": null,
   "metadata": {
    "colab": {
     "base_uri": "https://localhost:8080/",
     "height": 51
    },
    "colab_type": "code",
    "id": "lmGEN1s7duyb",
    "outputId": "c638f271-2323-4ee8-84f5-c7fe8cff209f"
   },
   "outputs": [
    {
     "name": "stdout",
     "output_type": "stream",
     "text": [
      "(60000, 28, 28) (60000, 28, 28)\n",
      "(60000, 28, 28) (60000, 28, 28)\n"
     ]
    }
   ],
   "source": [
    "print(source_train_images.shape, source_train_images.shape)\n",
    "print(target_train_images.shape, target_train_images.shape)"
   ]
  },
  {
   "cell_type": "code",
   "execution_count": null,
   "metadata": {
    "colab": {},
    "colab_type": "code",
    "id": "_qe3oiupdHE7"
   },
   "outputs": [],
   "source": [
    "source_train_images = (source_train_images/255.0)\n",
    "source_train_images = source_train_images.astype(np.float32)\n",
    "source_train_images = source_train_images.reshape(source_train_images.shape[0], 28, 28, 1);\n",
    "source_train_labels = source_train_labels.astype(np.int32)\n",
    "\n",
    "source_test_images = (source_test_images/255.0)\n",
    "source_test_images = source_test_images.astype(np.float32)\n",
    "source_test_images = source_test_images.reshape(source_test_images.shape[0], 28, 28, 1);\n",
    "source_test_labels = source_test_labels.astype(np.int32)"
   ]
  },
  {
   "cell_type": "code",
   "execution_count": null,
   "metadata": {
    "colab": {},
    "colab_type": "code",
    "id": "_aa-gD12dYOk"
   },
   "outputs": [],
   "source": [
    "target_train_images = (target_train_images/255.0)\n",
    "target_train_images = target_train_images.astype(np.float32)\n",
    "target_train_images = target_train_images.reshape(target_train_images.shape[0], 28, 28, 1);\n",
    "target_train_labels = target_train_labels.astype(np.int32)\n",
    "\n",
    "target_test_images = (target_test_images/255.0)\n",
    "target_test_images = target_test_images.astype(np.float32)\n",
    "target_test_images = target_test_images.reshape(target_test_images.shape[0], 28, 28, 1);\n",
    "target_test_labels = target_test_labels.astype(np.int32)"
   ]
  },
  {
   "cell_type": "code",
   "execution_count": null,
   "metadata": {
    "colab": {},
    "colab_type": "code",
    "id": "Tgeq3ohjdOTk"
   },
   "outputs": [],
   "source": [
    "dataset_source = tf.data.Dataset.from_tensor_slices((source_train_images, source_train_labels))\n",
    "dataset_target = tf.data.Dataset.from_tensor_slices((target_train_images, target_train_labels))\n",
    "# Creating the data batches\n",
    "\n",
    "ds_source = dataset_source.shuffle(5000).batch(64)\n",
    "ds_target = dataset_target.shuffle(5000).batch(64)"
   ]
  },
  {
   "cell_type": "code",
   "execution_count": null,
   "metadata": {
    "colab": {},
    "colab_type": "code",
    "id": "HVHXgMOIiG2m"
   },
   "outputs": [],
   "source": [
    "model_f = Sequential() \n",
    "model_f.add(Conv2D(10, kernel_size=(3,3), input_shape=input_shape))\n",
    "model_f.add(MaxPooling2D(pool_size=(2,2)))\n",
    "model_f.add(Flatten())\n",
    "model_f.add(Dense(15,activation = tf.nn.relu))\n",
    "model_f.add(Dropout(0.3))\n",
    "model_f.add(Dense(10,activation=tf.nn.softmax))"
   ]
  },
  {
   "cell_type": "code",
   "execution_count": null,
   "metadata": {
    "colab": {
     "base_uri": "https://localhost:8080/",
     "height": 357
    },
    "colab_type": "code",
    "id": "NM-Qa0N1iMMV",
    "outputId": "d757f4b5-ad30-4e7b-8240-f59492bf3299"
   },
   "outputs": [
    {
     "name": "stdout",
     "output_type": "stream",
     "text": [
      "Model: \"sequential_3\"\n",
      "_________________________________________________________________\n",
      "Layer (type)                 Output Shape              Param #   \n",
      "=================================================================\n",
      "conv2d_2 (Conv2D)            (None, 26, 26, 10)        100       \n",
      "_________________________________________________________________\n",
      "max_pooling2d_2 (MaxPooling2 (None, 13, 13, 10)        0         \n",
      "_________________________________________________________________\n",
      "flatten_2 (Flatten)          (None, 1690)              0         \n",
      "_________________________________________________________________\n",
      "dense_4 (Dense)              (None, 15)                25365     \n",
      "_________________________________________________________________\n",
      "dropout_2 (Dropout)          (None, 15)                0         \n",
      "_________________________________________________________________\n",
      "dense_5 (Dense)              (None, 10)                160       \n",
      "=================================================================\n",
      "Total params: 25,625\n",
      "Trainable params: 25,625\n",
      "Non-trainable params: 0\n",
      "_________________________________________________________________\n"
     ]
    }
   ],
   "source": [
    "model_f.compile(optimizer='Adam', loss = tf.keras.losses.SparseCategoricalCrossentropy(), metrics='accuracy')\n",
    "model_f.summary()"
   ]
  },
  {
   "cell_type": "code",
   "execution_count": null,
   "metadata": {
    "colab": {
     "base_uri": "https://localhost:8080/",
     "height": 374
    },
    "colab_type": "code",
    "id": "BOZhW1Laif2-",
    "outputId": "78d00328-d2a6-4373-ad62-5b9d3546fb17"
   },
   "outputs": [
    {
     "name": "stdout",
     "output_type": "stream",
     "text": [
      "Epoch 1/10\n",
      "938/938 - 2s - loss: 1.0780 - accuracy: 0.5883\n",
      "Epoch 2/10\n",
      "938/938 - 2s - loss: 0.8107 - accuracy: 0.6825\n",
      "Epoch 3/10\n",
      "938/938 - 2s - loss: 0.7318 - accuracy: 0.7149\n",
      "Epoch 4/10\n",
      "938/938 - 2s - loss: 0.6590 - accuracy: 0.7492\n",
      "Epoch 5/10\n",
      "938/938 - 2s - loss: 0.6238 - accuracy: 0.7666\n",
      "Epoch 6/10\n",
      "938/938 - 2s - loss: 0.5969 - accuracy: 0.7786\n",
      "Epoch 7/10\n",
      "938/938 - 2s - loss: 0.5810 - accuracy: 0.7877\n",
      "Epoch 8/10\n",
      "938/938 - 2s - loss: 0.5645 - accuracy: 0.7925\n",
      "Epoch 9/10\n",
      "938/938 - 2s - loss: 0.5360 - accuracy: 0.8016\n",
      "Epoch 10/10\n",
      "938/938 - 2s - loss: 0.5240 - accuracy: 0.8055\n"
     ]
    },
    {
     "data": {
      "text/plain": [
       "<tensorflow.python.keras.callbacks.History at 0x7fb74ee6b6a0>"
      ]
     },
     "execution_count": 32,
     "metadata": {
      "tags": []
     },
     "output_type": "execute_result"
    }
   ],
   "source": [
    "model_f.fit(ds_source, batch_size=64, epochs=10, verbose=2, use_multiprocessing=True)"
   ]
  },
  {
   "cell_type": "code",
   "execution_count": null,
   "metadata": {
    "colab": {},
    "colab_type": "code",
    "id": "1x3-Fwytis_m"
   },
   "outputs": [],
   "source": [
    "model_m = Sequential() \n",
    "model_m.add(Conv2D(10, kernel_size=(3,3), input_shape=input_shape))\n",
    "model_m.add(MaxPooling2D(pool_size=(2,2)))\n",
    "model_m.add(Flatten())\n",
    "model_m.add(Dense(15,activation = tf.nn.relu))\n",
    "model_m.add(Dropout(0.3))\n",
    "model_m.add(Dense(10, activation='softmax'))"
   ]
  },
  {
   "cell_type": "code",
   "execution_count": null,
   "metadata": {
    "colab": {
     "base_uri": "https://localhost:8080/",
     "height": 357
    },
    "colab_type": "code",
    "id": "TYaTrQEEi4kG",
    "outputId": "a2041212-19e3-4956-90f2-dece39864705"
   },
   "outputs": [
    {
     "name": "stdout",
     "output_type": "stream",
     "text": [
      "Model: \"sequential_4\"\n",
      "_________________________________________________________________\n",
      "Layer (type)                 Output Shape              Param #   \n",
      "=================================================================\n",
      "conv2d_3 (Conv2D)            (None, 26, 26, 10)        100       \n",
      "_________________________________________________________________\n",
      "max_pooling2d_3 (MaxPooling2 (None, 13, 13, 10)        0         \n",
      "_________________________________________________________________\n",
      "flatten_3 (Flatten)          (None, 1690)              0         \n",
      "_________________________________________________________________\n",
      "dense_6 (Dense)              (None, 15)                25365     \n",
      "_________________________________________________________________\n",
      "dropout_3 (Dropout)          (None, 15)                0         \n",
      "_________________________________________________________________\n",
      "dense_7 (Dense)              (None, 10)                160       \n",
      "=================================================================\n",
      "Total params: 25,625\n",
      "Trainable params: 25,625\n",
      "Non-trainable params: 0\n",
      "_________________________________________________________________\n"
     ]
    }
   ],
   "source": [
    "model_m.compile(optimizer='Adam', loss = tf.keras.losses.SparseCategoricalCrossentropy(), metrics='accuracy')\n",
    "model_m.summary()"
   ]
  },
  {
   "cell_type": "code",
   "execution_count": null,
   "metadata": {
    "colab": {
     "base_uri": "https://localhost:8080/",
     "height": 374
    },
    "colab_type": "code",
    "id": "WyeJTSNmjE1O",
    "outputId": "369d8a7b-5414-4738-ebef-7086fe2e14bb"
   },
   "outputs": [
    {
     "name": "stdout",
     "output_type": "stream",
     "text": [
      "Epoch 1/10\n",
      "938/938 - 2s - loss: 0.8107 - accuracy: 0.7286\n",
      "Epoch 2/10\n",
      "938/938 - 2s - loss: 0.5411 - accuracy: 0.8247\n",
      "Epoch 3/10\n",
      "938/938 - 2s - loss: 0.4603 - accuracy: 0.8509\n",
      "Epoch 4/10\n",
      "938/938 - 2s - loss: 0.3940 - accuracy: 0.8728\n",
      "Epoch 5/10\n",
      "938/938 - 2s - loss: 0.3476 - accuracy: 0.8884\n",
      "Epoch 6/10\n",
      "938/938 - 2s - loss: 0.3218 - accuracy: 0.8952\n",
      "Epoch 7/10\n",
      "938/938 - 2s - loss: 0.2973 - accuracy: 0.9028\n",
      "Epoch 8/10\n",
      "938/938 - 2s - loss: 0.2848 - accuracy: 0.9044\n",
      "Epoch 9/10\n",
      "938/938 - 2s - loss: 0.2706 - accuracy: 0.9101\n",
      "Epoch 10/10\n",
      "938/938 - 2s - loss: 0.2639 - accuracy: 0.9105\n"
     ]
    },
    {
     "data": {
      "text/plain": [
       "<tensorflow.python.keras.callbacks.History at 0x7fb6ea4d2048>"
      ]
     },
     "execution_count": 35,
     "metadata": {
      "tags": []
     },
     "output_type": "execute_result"
    }
   ],
   "source": [
    "model_m.fit(ds_target, batch_size=64, epochs=10, verbose=2, use_multiprocessing=True)"
   ]
  },
  {
   "cell_type": "code",
   "execution_count": null,
   "metadata": {
    "colab": {
     "base_uri": "https://localhost:8080/",
     "height": 51
    },
    "colab_type": "code",
    "id": "vkzd4yjejKZ9",
    "outputId": "5b23a3bb-956b-4376-a68a-762abac85b9d"
   },
   "outputs": [
    {
     "name": "stdout",
     "output_type": "stream",
     "text": [
      "313/313 [==============================] - 1s 2ms/step - loss: 0.3710 - accuracy: 0.8712\n"
     ]
    },
    {
     "data": {
      "text/plain": [
       "[0.3710150718688965, 0.8712000250816345]"
      ]
     },
     "execution_count": 36,
     "metadata": {
      "tags": []
     },
     "output_type": "execute_result"
    }
   ],
   "source": [
    "model_f.evaluate(x = source_test_images, y = source_test_labels, batch_size=32, verbose=1)"
   ]
  },
  {
   "cell_type": "code",
   "execution_count": null,
   "metadata": {
    "colab": {
     "base_uri": "https://localhost:8080/",
     "height": 51
    },
    "colab_type": "code",
    "id": "hjwaG7rGjYI1",
    "outputId": "efda611f-1ece-4488-d04f-9cfee309d4df"
   },
   "outputs": [
    {
     "name": "stdout",
     "output_type": "stream",
     "text": [
      "313/313 [==============================] - 1s 2ms/step - loss: 0.1060 - accuracy: 0.9679\n"
     ]
    },
    {
     "data": {
      "text/plain": [
       "[0.10602888464927673, 0.9678999781608582]"
      ]
     },
     "execution_count": 37,
     "metadata": {
      "tags": []
     },
     "output_type": "execute_result"
    }
   ],
   "source": [
    "model_m.evaluate(x = target_test_images, y = target_test_labels, batch_size=32, verbose=1)"
   ]
  },
  {
   "cell_type": "code",
   "execution_count": null,
   "metadata": {
    "colab": {
     "base_uri": "https://localhost:8080/",
     "height": 357
    },
    "colab_type": "code",
    "id": "ADFtfev-jebV",
    "outputId": "6e646924-6ff5-46da-ae0e-7b028f19c897"
   },
   "outputs": [
    {
     "name": "stdout",
     "output_type": "stream",
     "text": [
      "Model: \"sequential_3\"\n",
      "_________________________________________________________________\n",
      "Layer (type)                 Output Shape              Param #   \n",
      "=================================================================\n",
      "conv2d_2 (Conv2D)            (None, 26, 26, 10)        100       \n",
      "_________________________________________________________________\n",
      "max_pooling2d_2 (MaxPooling2 (None, 13, 13, 10)        0         \n",
      "_________________________________________________________________\n",
      "flatten_2 (Flatten)          (None, 1690)              0         \n",
      "_________________________________________________________________\n",
      "dense_4 (Dense)              (None, 15)                25365     \n",
      "_________________________________________________________________\n",
      "dropout_2 (Dropout)          (None, 15)                0         \n",
      "_________________________________________________________________\n",
      "dense_5 (Dense)              (None, 10)                160       \n",
      "=================================================================\n",
      "Total params: 25,625\n",
      "Trainable params: 25,625\n",
      "Non-trainable params: 0\n",
      "_________________________________________________________________\n"
     ]
    }
   ],
   "source": [
    "flag_model2 = tf.keras.models.clone_model(model_f)\n",
    "flag_model2.summary()"
   ]
  },
  {
   "cell_type": "code",
   "execution_count": null,
   "metadata": {
    "colab": {
     "base_uri": "https://localhost:8080/",
     "height": 357
    },
    "colab_type": "code",
    "id": "rfRTtpI0j3S2",
    "outputId": "e2e46091-16a4-42a5-8598-b724616d152f"
   },
   "outputs": [
    {
     "name": "stdout",
     "output_type": "stream",
     "text": [
      "Model: \"functional_3\"\n",
      "_________________________________________________________________\n",
      "Layer (type)                 Output Shape              Param #   \n",
      "=================================================================\n",
      "conv2d_2_input (InputLayer)  [(None, 28, 28, 1)]       0         \n",
      "_________________________________________________________________\n",
      "conv2d_2 (Conv2D)            (None, 26, 26, 10)        100       \n",
      "_________________________________________________________________\n",
      "max_pooling2d_2 (MaxPooling2 (None, 13, 13, 10)        0         \n",
      "_________________________________________________________________\n",
      "flatten_2 (Flatten)          (None, 1690)              0         \n",
      "_________________________________________________________________\n",
      "dense_4 (Dense)              (None, 15)                25365     \n",
      "_________________________________________________________________\n",
      "dropout_2 (Dropout)          (None, 15)                0         \n",
      "=================================================================\n",
      "Total params: 25,465\n",
      "Trainable params: 25,465\n",
      "Non-trainable params: 0\n",
      "_________________________________________________________________\n"
     ]
    }
   ],
   "source": [
    "flag_model2 = Model(flag_model2.input, flag_model2.layers[-2].output)\n",
    "flag_model2.summary()"
   ]
  },
  {
   "cell_type": "code",
   "execution_count": null,
   "metadata": {
    "colab": {},
    "colab_type": "code",
    "id": "F30RKm3ukA7e"
   },
   "outputs": [],
   "source": [
    "tr_model = Sequential()\n",
    "tr_model.add(flag_model2)\n",
    "tr_model.add(model_m.get_layer(index=-1))"
   ]
  },
  {
   "cell_type": "code",
   "execution_count": null,
   "metadata": {
    "colab": {
     "base_uri": "https://localhost:8080/",
     "height": 221
    },
    "colab_type": "code",
    "id": "Fkmutu__kJDW",
    "outputId": "84e7485c-eed7-429a-cfed-6a811beb404e"
   },
   "outputs": [
    {
     "name": "stdout",
     "output_type": "stream",
     "text": [
      "Model: \"sequential_5\"\n",
      "_________________________________________________________________\n",
      "Layer (type)                 Output Shape              Param #   \n",
      "=================================================================\n",
      "functional_3 (Functional)    (None, 15)                25465     \n",
      "_________________________________________________________________\n",
      "dense_7 (Dense)              (None, 10)                160       \n",
      "=================================================================\n",
      "Total params: 25,625\n",
      "Trainable params: 25,625\n",
      "Non-trainable params: 0\n",
      "_________________________________________________________________\n"
     ]
    }
   ],
   "source": [
    "tr_model.summary()"
   ]
  },
  {
   "cell_type": "code",
   "execution_count": null,
   "metadata": {
    "colab": {},
    "colab_type": "code",
    "id": "kxMIY0cLkQCO"
   },
   "outputs": [],
   "source": [
    "tr_model.compile(optimizer='Adam', loss = tf.keras.losses.SparseCategoricalCrossentropy(), metrics='accuracy')"
   ]
  },
  {
   "cell_type": "code",
   "execution_count": null,
   "metadata": {
    "colab": {
     "base_uri": "https://localhost:8080/",
     "height": 374
    },
    "colab_type": "code",
    "id": "RaS-kG9bkV_e",
    "outputId": "344d6aa7-53b8-4cf5-8dc6-470c444139c1"
   },
   "outputs": [
    {
     "name": "stdout",
     "output_type": "stream",
     "text": [
      "Epoch 1/10\n",
      "938/938 - 2s - loss: 0.6151 - accuracy: 0.7989\n",
      "Epoch 2/10\n",
      "938/938 - 2s - loss: 0.4143 - accuracy: 0.8670\n",
      "Epoch 3/10\n",
      "938/938 - 2s - loss: 0.3457 - accuracy: 0.8896\n",
      "Epoch 4/10\n",
      "938/938 - 2s - loss: 0.3087 - accuracy: 0.8996\n",
      "Epoch 5/10\n",
      "938/938 - 2s - loss: 0.2854 - accuracy: 0.9077\n",
      "Epoch 6/10\n",
      "938/938 - 2s - loss: 0.2629 - accuracy: 0.9155\n",
      "Epoch 7/10\n",
      "938/938 - 2s - loss: 0.2550 - accuracy: 0.9169\n",
      "Epoch 8/10\n",
      "938/938 - 2s - loss: 0.2407 - accuracy: 0.9213\n",
      "Epoch 9/10\n",
      "938/938 - 2s - loss: 0.2358 - accuracy: 0.9222\n",
      "Epoch 10/10\n",
      "938/938 - 2s - loss: 0.2295 - accuracy: 0.9259\n"
     ]
    },
    {
     "data": {
      "text/plain": [
       "<tensorflow.python.keras.callbacks.History at 0x7fb6ea2199b0>"
      ]
     },
     "execution_count": 43,
     "metadata": {
      "tags": []
     },
     "output_type": "execute_result"
    }
   ],
   "source": [
    "tr_model.fit(ds_target, batch_size=64, epochs=10, verbose=2, use_multiprocessing=True)"
   ]
  },
  {
   "cell_type": "code",
   "execution_count": null,
   "metadata": {
    "colab": {
     "base_uri": "https://localhost:8080/",
     "height": 51
    },
    "colab_type": "code",
    "id": "xhOyqEg1knYe",
    "outputId": "9e3afa77-f06c-499f-b37a-550c9c3081c9"
   },
   "outputs": [
    {
     "name": "stdout",
     "output_type": "stream",
     "text": [
      "313/313 [==============================] - 1s 2ms/step - loss: 0.0972 - accuracy: 0.9713\n"
     ]
    },
    {
     "data": {
      "text/plain": [
       "[0.09717144817113876, 0.9713000059127808]"
      ]
     },
     "execution_count": 44,
     "metadata": {
      "tags": []
     },
     "output_type": "execute_result"
    }
   ],
   "source": [
    "tr_model.evaluate(target_test_images, target_test_labels, 32, verbose=1)"
   ]
  },
  {
   "cell_type": "markdown",
   "metadata": {
    "colab_type": "text",
    "id": "9u32Zd3t5NwO"
   },
   "source": [
    " Observations"
   ]
  },
  {
   "cell_type": "markdown",
   "metadata": {
    "colab_type": "text",
    "id": "GQM5LWPX7oub"
   },
   "source": [
    "Mnist as target and Fmnist as source.\n",
    "\n",
    "Target domain: Mnist\n",
    "\n",
    "Source domain: Fmnist\n",
    "\n",
    "Model works better for both the domains with test accuracy for source domain at 87% and target domain test accuracy at 96%. Model is not overfitting. Transfer learning works better here as the test accuracy for the final model where the classification layer is of the target model is 97.13%. We can see that the final model generalises well enough. "
   ]
  },
  {
   "cell_type": "markdown",
   "metadata": {
    "colab_type": "text",
    "id": "WICLqDF1lCwg"
   },
   "source": [
    "### Task 2.2"
   ]
  },
  {
   "cell_type": "markdown",
   "metadata": {
    "colab_type": "text",
    "id": "UqY0cyODnHvU"
   },
   "source": [
    "Mnist as source and Fmnist as target."
   ]
  },
  {
   "cell_type": "code",
   "execution_count": null,
   "metadata": {
    "colab": {
     "base_uri": "https://localhost:8080/",
     "height": 357
    },
    "colab_type": "code",
    "id": "_VssZTUIlFXM",
    "outputId": "4d5164fe-d939-4712-fb27-fa5ef5fec94d"
   },
   "outputs": [
    {
     "name": "stdout",
     "output_type": "stream",
     "text": [
      "Model: \"sequential_4\"\n",
      "_________________________________________________________________\n",
      "Layer (type)                 Output Shape              Param #   \n",
      "=================================================================\n",
      "conv2d_3 (Conv2D)            (None, 26, 26, 10)        100       \n",
      "_________________________________________________________________\n",
      "max_pooling2d_3 (MaxPooling2 (None, 13, 13, 10)        0         \n",
      "_________________________________________________________________\n",
      "flatten_3 (Flatten)          (None, 1690)              0         \n",
      "_________________________________________________________________\n",
      "dense_6 (Dense)              (None, 15)                25365     \n",
      "_________________________________________________________________\n",
      "dropout_3 (Dropout)          (None, 15)                0         \n",
      "_________________________________________________________________\n",
      "dense_7 (Dense)              (None, 10)                160       \n",
      "=================================================================\n",
      "Total params: 25,625\n",
      "Trainable params: 25,625\n",
      "Non-trainable params: 0\n",
      "_________________________________________________________________\n"
     ]
    }
   ],
   "source": [
    "flag_model3 = tf.keras.models.clone_model(model_m)\n",
    "flag_model3.summary()"
   ]
  },
  {
   "cell_type": "code",
   "execution_count": null,
   "metadata": {
    "colab": {
     "base_uri": "https://localhost:8080/",
     "height": 357
    },
    "colab_type": "code",
    "id": "g7lM5jMbmA_3",
    "outputId": "e1812ea7-850d-492d-946e-1fedf473632f"
   },
   "outputs": [
    {
     "name": "stdout",
     "output_type": "stream",
     "text": [
      "Model: \"functional_5\"\n",
      "_________________________________________________________________\n",
      "Layer (type)                 Output Shape              Param #   \n",
      "=================================================================\n",
      "conv2d_3_input (InputLayer)  [(None, 28, 28, 1)]       0         \n",
      "_________________________________________________________________\n",
      "conv2d_3 (Conv2D)            (None, 26, 26, 10)        100       \n",
      "_________________________________________________________________\n",
      "max_pooling2d_3 (MaxPooling2 (None, 13, 13, 10)        0         \n",
      "_________________________________________________________________\n",
      "flatten_3 (Flatten)          (None, 1690)              0         \n",
      "_________________________________________________________________\n",
      "dense_6 (Dense)              (None, 15)                25365     \n",
      "_________________________________________________________________\n",
      "dropout_3 (Dropout)          (None, 15)                0         \n",
      "=================================================================\n",
      "Total params: 25,465\n",
      "Trainable params: 25,465\n",
      "Non-trainable params: 0\n",
      "_________________________________________________________________\n"
     ]
    }
   ],
   "source": [
    "flag_model3 = Model(flag_model3.input, flag_model3.layers[-2].output)\n",
    "flag_model3.summary()"
   ]
  },
  {
   "cell_type": "code",
   "execution_count": null,
   "metadata": {
    "colab": {},
    "colab_type": "code",
    "id": "NVbj9c53llHg"
   },
   "outputs": [],
   "source": [
    "trf_model = Sequential()\n",
    "trf_model.add(flag_model3)\n",
    "trf_model.add(model_f.get_layer(index=-1))"
   ]
  },
  {
   "cell_type": "code",
   "execution_count": null,
   "metadata": {
    "colab": {
     "base_uri": "https://localhost:8080/",
     "height": 221
    },
    "colab_type": "code",
    "id": "NBpJOZU7l7jn",
    "outputId": "09756ca0-1685-4fbe-8bc4-f9042f04f013"
   },
   "outputs": [
    {
     "name": "stdout",
     "output_type": "stream",
     "text": [
      "Model: \"sequential_6\"\n",
      "_________________________________________________________________\n",
      "Layer (type)                 Output Shape              Param #   \n",
      "=================================================================\n",
      "functional_5 (Functional)    (None, 15)                25465     \n",
      "_________________________________________________________________\n",
      "dense_5 (Dense)              (None, 10)                160       \n",
      "=================================================================\n",
      "Total params: 25,625\n",
      "Trainable params: 25,625\n",
      "Non-trainable params: 0\n",
      "_________________________________________________________________\n"
     ]
    }
   ],
   "source": [
    "trf_model.summary()"
   ]
  },
  {
   "cell_type": "code",
   "execution_count": null,
   "metadata": {
    "colab": {},
    "colab_type": "code",
    "id": "Bz25IiA_mZ1e"
   },
   "outputs": [],
   "source": [
    "trf_model.compile(optimizer='Adam', loss = tf.keras.losses.SparseCategoricalCrossentropy(), metrics='accuracy')"
   ]
  },
  {
   "cell_type": "code",
   "execution_count": null,
   "metadata": {
    "colab": {
     "base_uri": "https://localhost:8080/",
     "height": 374
    },
    "colab_type": "code",
    "id": "2bXCkY5imr8v",
    "outputId": "3dbabac1-2da5-4b08-9c84-8d621829c100"
   },
   "outputs": [
    {
     "name": "stdout",
     "output_type": "stream",
     "text": [
      "Epoch 1/10\n",
      "938/938 - 2s - loss: 0.8123 - accuracy: 0.6889\n",
      "Epoch 2/10\n",
      "938/938 - 2s - loss: 0.6298 - accuracy: 0.7629\n",
      "Epoch 3/10\n",
      "938/938 - 2s - loss: 0.5931 - accuracy: 0.7795\n",
      "Epoch 4/10\n",
      "938/938 - 2s - loss: 0.5756 - accuracy: 0.7849\n",
      "Epoch 5/10\n",
      "938/938 - 2s - loss: 0.5573 - accuracy: 0.7928\n",
      "Epoch 6/10\n",
      "938/938 - 2s - loss: 0.5443 - accuracy: 0.7969\n",
      "Epoch 7/10\n",
      "938/938 - 2s - loss: 0.5302 - accuracy: 0.8010\n",
      "Epoch 8/10\n",
      "938/938 - 2s - loss: 0.5220 - accuracy: 0.8058\n",
      "Epoch 9/10\n",
      "938/938 - 2s - loss: 0.4973 - accuracy: 0.8149\n",
      "Epoch 10/10\n",
      "938/938 - 2s - loss: 0.4790 - accuracy: 0.8189\n"
     ]
    },
    {
     "data": {
      "text/plain": [
       "<tensorflow.python.keras.callbacks.History at 0x7fb6ea0e9588>"
      ]
     },
     "execution_count": 50,
     "metadata": {
      "tags": []
     },
     "output_type": "execute_result"
    }
   ],
   "source": [
    "trf_model.fit(ds_source, batch_size=64, epochs=10, verbose=2, use_multiprocessing=True)"
   ]
  },
  {
   "cell_type": "code",
   "execution_count": null,
   "metadata": {
    "colab": {
     "base_uri": "https://localhost:8080/",
     "height": 51
    },
    "colab_type": "code",
    "id": "zW4bHhCSm-8f",
    "outputId": "4dff6644-4fa8-42e6-a72c-b8581746cfee"
   },
   "outputs": [
    {
     "name": "stdout",
     "output_type": "stream",
     "text": [
      "313/313 [==============================] - 1s 2ms/step - loss: 0.3556 - accuracy: 0.8744\n"
     ]
    },
    {
     "data": {
      "text/plain": [
       "[0.35560479760169983, 0.8744000196456909]"
      ]
     },
     "execution_count": 51,
     "metadata": {
      "tags": []
     },
     "output_type": "execute_result"
    }
   ],
   "source": [
    "trf_model.evaluate(source_test_images, source_test_labels, 32, verbose=1)"
   ]
  },
  {
   "cell_type": "markdown",
   "metadata": {
    "colab_type": "text",
    "id": "QXTUQplI-b_T"
   },
   "source": [
    " Observations"
   ]
  },
  {
   "cell_type": "markdown",
   "metadata": {
    "colab_type": "text",
    "id": "yiyS9H8yBZWR"
   },
   "source": [
    "Target domain: Fmnist\n",
    "\n",
    "Source domain: Mnist\n",
    "\n",
    "Model works better for both the domains with test accuracy for source domain at 87% and target domain test accuracy at 96%. Model is not overfitting. Transfer learning does not work as better as the previous case, here as the test accuracy for the final model where the classification layer is of the target model is 87.44%. We can see that the final model does not generalise well enough as the previous one. "
   ]
  },
  {
   "cell_type": "markdown",
   "metadata": {
    "colab_type": "text",
    "id": "7eTqx0uDrZFW"
   },
   "source": [
    "## Task 3"
   ]
  },
  {
   "cell_type": "markdown",
   "metadata": {
    "colab_type": "text",
    "id": "ujdKXtwHtUAc"
   },
   "source": [
    "freezing all pre-trained layers (i.e. set trainable to False). Lets take the same tasks as above with Mnist and Fmnist and compare the performance after freezing the pre trained layers."
   ]
  },
  {
   "cell_type": "code",
   "execution_count": null,
   "metadata": {
    "colab": {},
    "colab_type": "code",
    "id": "0QJKPkertUtJ"
   },
   "outputs": [],
   "source": [
    "flag_model3.trainable = False\n",
    "trf_model = Sequential( [ flag_model3, model_f.get_layer(index=-1)])"
   ]
  },
  {
   "cell_type": "code",
   "execution_count": null,
   "metadata": {
    "colab": {
     "base_uri": "https://localhost:8080/",
     "height": 221
    },
    "colab_type": "code",
    "id": "aATKdpMowUts",
    "outputId": "68f5e3e5-7bcf-4539-ee9d-e5f29e67953f"
   },
   "outputs": [
    {
     "name": "stdout",
     "output_type": "stream",
     "text": [
      "Model: \"sequential_7\"\n",
      "_________________________________________________________________\n",
      "Layer (type)                 Output Shape              Param #   \n",
      "=================================================================\n",
      "functional_5 (Functional)    (None, 15)                25465     \n",
      "_________________________________________________________________\n",
      "dense_5 (Dense)              (None, 10)                160       \n",
      "=================================================================\n",
      "Total params: 25,625\n",
      "Trainable params: 160\n",
      "Non-trainable params: 25,465\n",
      "_________________________________________________________________\n"
     ]
    }
   ],
   "source": [
    "trf_model.summary()"
   ]
  },
  {
   "cell_type": "markdown",
   "metadata": {
    "colab_type": "text",
    "id": "0kLGD1dp8WjP"
   },
   "source": [
    "Freezing the pre trained model"
   ]
  },
  {
   "cell_type": "code",
   "execution_count": null,
   "metadata": {
    "colab": {},
    "colab_type": "code",
    "id": "u5lmt76j5sq_"
   },
   "outputs": [],
   "source": [
    "trf_model.compile(optimizer='Adam', loss = tf.keras.losses.SparseCategoricalCrossentropy(), metrics='accuracy')"
   ]
  },
  {
   "cell_type": "code",
   "execution_count": null,
   "metadata": {
    "colab": {
     "base_uri": "https://localhost:8080/",
     "height": 374
    },
    "colab_type": "code",
    "id": "Aa9JqjYi8bpQ",
    "outputId": "5f0515b7-2d66-4c4d-894a-c663d46d2758"
   },
   "outputs": [
    {
     "name": "stdout",
     "output_type": "stream",
     "text": [
      "Epoch 1/10\n",
      "938/938 - 2s - loss: 0.4629 - accuracy: 0.8266\n",
      "Epoch 2/10\n",
      "938/938 - 2s - loss: 0.4659 - accuracy: 0.8248\n",
      "Epoch 3/10\n",
      "938/938 - 2s - loss: 0.4621 - accuracy: 0.8259\n",
      "Epoch 4/10\n",
      "938/938 - 2s - loss: 0.4590 - accuracy: 0.8278\n",
      "Epoch 5/10\n",
      "938/938 - 2s - loss: 0.4587 - accuracy: 0.8280\n",
      "Epoch 6/10\n",
      "938/938 - 2s - loss: 0.4606 - accuracy: 0.8290\n",
      "Epoch 7/10\n",
      "938/938 - 2s - loss: 0.4571 - accuracy: 0.8283\n",
      "Epoch 8/10\n",
      "938/938 - 2s - loss: 0.4593 - accuracy: 0.8264\n",
      "Epoch 9/10\n",
      "938/938 - 2s - loss: 0.4555 - accuracy: 0.8291\n",
      "Epoch 10/10\n",
      "938/938 - 2s - loss: 0.4583 - accuracy: 0.8297\n"
     ]
    },
    {
     "data": {
      "text/plain": [
       "<tensorflow.python.keras.callbacks.History at 0x7fb6e04c8a90>"
      ]
     },
     "execution_count": 55,
     "metadata": {
      "tags": []
     },
     "output_type": "execute_result"
    }
   ],
   "source": [
    "trf_model.fit(ds_source, batch_size=64, epochs=10, verbose=2, use_multiprocessing=True)"
   ]
  },
  {
   "cell_type": "code",
   "execution_count": null,
   "metadata": {
    "colab": {
     "base_uri": "https://localhost:8080/",
     "height": 51
    },
    "colab_type": "code",
    "id": "Z2n8cjXJ8gOY",
    "outputId": "71d59c65-533d-4576-fa33-06cc72585325"
   },
   "outputs": [
    {
     "name": "stdout",
     "output_type": "stream",
     "text": [
      "313/313 [==============================] - 1s 2ms/step - loss: 0.3539 - accuracy: 0.8789\n"
     ]
    },
    {
     "data": {
      "text/plain": [
       "[0.3539397120475769, 0.8788999915122986]"
      ]
     },
     "execution_count": 56,
     "metadata": {
      "tags": []
     },
     "output_type": "execute_result"
    }
   ],
   "source": [
    "trf_model.evaluate(source_test_images, source_test_labels, 32, verbose=1)"
   ]
  },
  {
   "cell_type": "markdown",
   "metadata": {
    "colab_type": "text",
    "id": "-YZwMt0_85L1"
   },
   "source": [
    "freezing only some bottom layers"
   ]
  },
  {
   "cell_type": "code",
   "execution_count": null,
   "metadata": {
    "colab": {},
    "colab_type": "code",
    "id": "V6KzRUxl858w"
   },
   "outputs": [],
   "source": [
    "flag_model3.trainable = True\n",
    "trf_model = Sequential( [ flag_model3, model_f.get_layer(index=-1)])"
   ]
  },
  {
   "cell_type": "code",
   "execution_count": null,
   "metadata": {
    "colab": {
     "base_uri": "https://localhost:8080/",
     "height": 221
    },
    "colab_type": "code",
    "id": "SKDKuydX8-j4",
    "outputId": "1a1c969a-0694-4ae5-95f9-6fb20651df31"
   },
   "outputs": [
    {
     "name": "stdout",
     "output_type": "stream",
     "text": [
      "Model: \"sequential_8\"\n",
      "_________________________________________________________________\n",
      "Layer (type)                 Output Shape              Param #   \n",
      "=================================================================\n",
      "functional_5 (Functional)    (None, 15)                25465     \n",
      "_________________________________________________________________\n",
      "dense_5 (Dense)              (None, 10)                160       \n",
      "=================================================================\n",
      "Total params: 25,625\n",
      "Trainable params: 25,465\n",
      "Non-trainable params: 160\n",
      "_________________________________________________________________\n"
     ]
    }
   ],
   "source": [
    "trf_model.layers[-1].trainable = False\n",
    "trf_model.summary()"
   ]
  },
  {
   "cell_type": "code",
   "execution_count": null,
   "metadata": {
    "colab": {},
    "colab_type": "code",
    "id": "0in4HNqM9DMI"
   },
   "outputs": [],
   "source": [
    "trf_model.compile(optimizer='Adam', loss = tf.keras.losses.SparseCategoricalCrossentropy(), metrics='accuracy')"
   ]
  },
  {
   "cell_type": "code",
   "execution_count": null,
   "metadata": {
    "colab": {
     "base_uri": "https://localhost:8080/",
     "height": 374
    },
    "colab_type": "code",
    "id": "RnG-zgsa9WOI",
    "outputId": "7228cbf5-9915-406f-b75d-3945dd0661d0"
   },
   "outputs": [
    {
     "name": "stdout",
     "output_type": "stream",
     "text": [
      "Epoch 1/10\n",
      "938/938 - 2s - loss: 0.4683 - accuracy: 0.8255\n",
      "Epoch 2/10\n",
      "938/938 - 2s - loss: 0.4547 - accuracy: 0.8306\n",
      "Epoch 3/10\n",
      "938/938 - 2s - loss: 0.4457 - accuracy: 0.8336\n",
      "Epoch 4/10\n",
      "938/938 - 2s - loss: 0.4405 - accuracy: 0.8327\n",
      "Epoch 5/10\n",
      "938/938 - 2s - loss: 0.4351 - accuracy: 0.8364\n",
      "Epoch 6/10\n",
      "938/938 - 2s - loss: 0.4281 - accuracy: 0.8395\n",
      "Epoch 7/10\n",
      "938/938 - 2s - loss: 0.4252 - accuracy: 0.8413\n",
      "Epoch 8/10\n",
      "938/938 - 2s - loss: 0.4180 - accuracy: 0.8436\n",
      "Epoch 9/10\n",
      "938/938 - 2s - loss: 0.4183 - accuracy: 0.8422\n",
      "Epoch 10/10\n",
      "938/938 - 2s - loss: 0.4155 - accuracy: 0.8442\n"
     ]
    },
    {
     "data": {
      "text/plain": [
       "<tensorflow.python.keras.callbacks.History at 0x7fb6e03d9eb8>"
      ]
     },
     "execution_count": 60,
     "metadata": {
      "tags": []
     },
     "output_type": "execute_result"
    }
   ],
   "source": [
    "trf_model.fit(ds_source, batch_size=64, epochs=10, verbose=2, use_multiprocessing=True)"
   ]
  },
  {
   "cell_type": "code",
   "execution_count": null,
   "metadata": {
    "colab": {
     "base_uri": "https://localhost:8080/",
     "height": 51
    },
    "colab_type": "code",
    "id": "qaiBHTYS9X2w",
    "outputId": "2bacffe4-8c02-49af-9b5d-09fa905edac9"
   },
   "outputs": [
    {
     "name": "stdout",
     "output_type": "stream",
     "text": [
      "313/313 [==============================] - 1s 2ms/step - loss: 0.3380 - accuracy: 0.8831\n"
     ]
    },
    {
     "data": {
      "text/plain": [
       "[0.33802491426467896, 0.8830999732017517]"
      ]
     },
     "execution_count": 61,
     "metadata": {
      "tags": []
     },
     "output_type": "execute_result"
    }
   ],
   "source": [
    "trf_model.evaluate(source_test_images, source_test_labels, 32, verbose=1)"
   ]
  },
  {
   "cell_type": "markdown",
   "metadata": {
    "colab_type": "text",
    "id": "_k-npoKn9v9B"
   },
   "source": [
    "replacing the source classification layer by multiple new ones for the target domain"
   ]
  },
  {
   "cell_type": "code",
   "execution_count": null,
   "metadata": {
    "colab": {},
    "colab_type": "code",
    "id": "N4gRloC19xbh"
   },
   "outputs": [],
   "source": [
    "trf_model = Sequential( [ flag_model3, tf.keras.layers.Dense(10, activation='softmax')])"
   ]
  },
  {
   "cell_type": "code",
   "execution_count": null,
   "metadata": {
    "colab": {
     "base_uri": "https://localhost:8080/",
     "height": 221
    },
    "colab_type": "code",
    "id": "v61pApxm_jSj",
    "outputId": "e78c443d-8544-4f23-ee5b-83ae96bb5101"
   },
   "outputs": [
    {
     "name": "stdout",
     "output_type": "stream",
     "text": [
      "Model: \"sequential_9\"\n",
      "_________________________________________________________________\n",
      "Layer (type)                 Output Shape              Param #   \n",
      "=================================================================\n",
      "functional_5 (Functional)    (None, 15)                25465     \n",
      "_________________________________________________________________\n",
      "dense_8 (Dense)              (None, 10)                160       \n",
      "=================================================================\n",
      "Total params: 25,625\n",
      "Trainable params: 25,625\n",
      "Non-trainable params: 0\n",
      "_________________________________________________________________\n"
     ]
    }
   ],
   "source": [
    "trf_model.summary()"
   ]
  },
  {
   "cell_type": "markdown",
   "metadata": {
    "colab_type": "text",
    "id": "8uDmOe6_AJDV"
   },
   "source": [
    "Adding a new trainable classification layer to the pre trained model."
   ]
  },
  {
   "cell_type": "code",
   "execution_count": null,
   "metadata": {
    "colab": {},
    "colab_type": "code",
    "id": "neQd_f3-_lah"
   },
   "outputs": [],
   "source": [
    "trf_model.compile(optimizer='Adam', loss = tf.keras.losses.SparseCategoricalCrossentropy(), metrics='accuracy')"
   ]
  },
  {
   "cell_type": "code",
   "execution_count": null,
   "metadata": {
    "colab": {
     "base_uri": "https://localhost:8080/",
     "height": 374
    },
    "colab_type": "code",
    "id": "JYJvtcnEADNx",
    "outputId": "837c3835-5d65-4754-f6ed-1cc051d0dfa5"
   },
   "outputs": [
    {
     "name": "stdout",
     "output_type": "stream",
     "text": [
      "Epoch 1/10\n",
      "938/938 - 2s - loss: 0.8484 - accuracy: 0.6973\n",
      "Epoch 2/10\n",
      "938/938 - 2s - loss: 0.5489 - accuracy: 0.7930\n",
      "Epoch 3/10\n",
      "938/938 - 2s - loss: 0.5010 - accuracy: 0.8110\n",
      "Epoch 4/10\n",
      "938/938 - 2s - loss: 0.4825 - accuracy: 0.8185\n",
      "Epoch 5/10\n",
      "938/938 - 2s - loss: 0.4774 - accuracy: 0.8203\n",
      "Epoch 6/10\n",
      "938/938 - 2s - loss: 0.4486 - accuracy: 0.8331\n",
      "Epoch 7/10\n",
      "938/938 - 2s - loss: 0.4307 - accuracy: 0.8421\n",
      "Epoch 8/10\n",
      "938/938 - 2s - loss: 0.4248 - accuracy: 0.8454\n",
      "Epoch 9/10\n",
      "938/938 - 2s - loss: 0.4144 - accuracy: 0.8493\n",
      "Epoch 10/10\n",
      "938/938 - 2s - loss: 0.4101 - accuracy: 0.8512\n"
     ]
    },
    {
     "data": {
      "text/plain": [
       "<tensorflow.python.keras.callbacks.History at 0x7fb6e0281898>"
      ]
     },
     "execution_count": 65,
     "metadata": {
      "tags": []
     },
     "output_type": "execute_result"
    }
   ],
   "source": [
    "trf_model.fit(ds_source, batch_size=64, epochs=10, verbose=2, use_multiprocessing=True)"
   ]
  },
  {
   "cell_type": "code",
   "execution_count": null,
   "metadata": {
    "colab": {
     "base_uri": "https://localhost:8080/",
     "height": 51
    },
    "colab_type": "code",
    "id": "L0svWdr1AE7Z",
    "outputId": "69f3991f-1e19-4251-d68a-c83568bae6c4"
   },
   "outputs": [
    {
     "name": "stdout",
     "output_type": "stream",
     "text": [
      "313/313 [==============================] - 1s 2ms/step - loss: 0.3326 - accuracy: 0.8840\n"
     ]
    },
    {
     "data": {
      "text/plain": [
       "[0.3326401710510254, 0.8840000033378601]"
      ]
     },
     "execution_count": 66,
     "metadata": {
      "tags": []
     },
     "output_type": "execute_result"
    }
   ],
   "source": [
    "trf_model.evaluate(source_test_images, source_test_labels, 32, verbose=1)"
   ]
  },
  {
   "cell_type": "code",
   "execution_count": null,
   "metadata": {
    "colab": {},
    "colab_type": "code",
    "id": "pbrsFPBTH_J3"
   },
   "outputs": [],
   "source": [
    "replace_model = Sequential()\n",
    "replace_model.add(flag_model3)\n",
    "replace_model.add(Dense(15, activation= tf.nn.relu))\n",
    "replace_model.add(Dense(10, activation=tf.nn.softmax))"
   ]
  },
  {
   "cell_type": "code",
   "execution_count": null,
   "metadata": {
    "colab": {
     "base_uri": "https://localhost:8080/",
     "height": 255
    },
    "colab_type": "code",
    "id": "p3OjKsKxIj1C",
    "outputId": "62c873ca-96a1-4ac4-ed86-83ae543b11b1"
   },
   "outputs": [
    {
     "name": "stdout",
     "output_type": "stream",
     "text": [
      "Model: \"sequential_10\"\n",
      "_________________________________________________________________\n",
      "Layer (type)                 Output Shape              Param #   \n",
      "=================================================================\n",
      "functional_5 (Functional)    (None, 15)                25465     \n",
      "_________________________________________________________________\n",
      "dense_9 (Dense)              (None, 15)                240       \n",
      "_________________________________________________________________\n",
      "dense_10 (Dense)             (None, 10)                160       \n",
      "=================================================================\n",
      "Total params: 25,865\n",
      "Trainable params: 25,865\n",
      "Non-trainable params: 0\n",
      "_________________________________________________________________\n"
     ]
    }
   ],
   "source": [
    "replace_model.summary()"
   ]
  },
  {
   "cell_type": "code",
   "execution_count": null,
   "metadata": {
    "colab": {},
    "colab_type": "code",
    "id": "8EveCML7ImWT"
   },
   "outputs": [],
   "source": [
    "replace_model.compile(optimizer='Adam', loss = tf.keras.losses.SparseCategoricalCrossentropy(), metrics='accuracy')"
   ]
  },
  {
   "cell_type": "code",
   "execution_count": null,
   "metadata": {
    "colab": {
     "base_uri": "https://localhost:8080/",
     "height": 374
    },
    "colab_type": "code",
    "id": "NAle11ThIpOe",
    "outputId": "d7804ddb-d87f-4075-98e4-7d3818757f2d"
   },
   "outputs": [
    {
     "name": "stdout",
     "output_type": "stream",
     "text": [
      "Epoch 1/10\n",
      "938/938 - 2s - loss: 0.9438 - accuracy: 0.6794\n",
      "Epoch 2/10\n",
      "938/938 - 2s - loss: 0.5144 - accuracy: 0.8151\n",
      "Epoch 3/10\n",
      "938/938 - 2s - loss: 0.4604 - accuracy: 0.8345\n",
      "Epoch 4/10\n",
      "938/938 - 2s - loss: 0.4348 - accuracy: 0.8419\n",
      "Epoch 5/10\n",
      "938/938 - 2s - loss: 0.4215 - accuracy: 0.8476\n",
      "Epoch 6/10\n",
      "938/938 - 2s - loss: 0.4110 - accuracy: 0.8519\n",
      "Epoch 7/10\n",
      "938/938 - 2s - loss: 0.4079 - accuracy: 0.8536\n",
      "Epoch 8/10\n",
      "938/938 - 2s - loss: 0.3972 - accuracy: 0.8580\n",
      "Epoch 9/10\n",
      "938/938 - 2s - loss: 0.3893 - accuracy: 0.8608\n",
      "Epoch 10/10\n",
      "938/938 - 2s - loss: 0.3878 - accuracy: 0.8616\n"
     ]
    },
    {
     "data": {
      "text/plain": [
       "<tensorflow.python.keras.callbacks.History at 0x7fb6e01af048>"
      ]
     },
     "execution_count": 70,
     "metadata": {
      "tags": []
     },
     "output_type": "execute_result"
    }
   ],
   "source": [
    "replace_model.fit(ds_source, batch_size=64, verbose=2, epochs=10, use_multiprocessing=True)"
   ]
  },
  {
   "cell_type": "code",
   "execution_count": null,
   "metadata": {
    "colab": {},
    "colab_type": "code",
    "id": "Db0Elk0TIr8i"
   },
   "outputs": [],
   "source": []
  },
  {
   "cell_type": "markdown",
   "metadata": {
    "colab_type": "text",
    "id": "CH6UOgVQBVrT"
   },
   "source": [
    "## Observations"
   ]
  },
  {
   "cell_type": "markdown",
   "metadata": {
    "colab_type": "text",
    "id": "Wz65UtU-DWgH"
   },
   "source": [
    "Transfer learning through different ways:\n",
    "\n",
    "Souce domain: Mnist\n",
    "\n",
    "Target domian: Fmnist\n",
    "as Fmnist is more complex than Mnist. \n",
    "\n",
    "1. freezing all pre-trained layers:\n",
    "\n",
    "Model works better for both the domains with test accuracy for source domain at 87% and target domain test accuracy at 96%. Model is not overfitting. Transfer learning does not work better for target domain here as the test accuracy for the final model where the pre-trained layers are freezed is at 87.89%. Generalisation is pretty well in this case.\n",
    "\n",
    "2. freezing only some bottom layers:\n",
    "\n",
    "Model works better for both the domains with test accuracy for source domain at 87% and target domain test accuracy at 96%.Model is not overfitting.Transfer learning does not work better for target domain here as the test accuracy for the final model where the classification layer is freezed is at 88%.Generalisation is pretty well in this case.\n",
    "\n",
    "3. Adding a new trainable classification layer to the pre trained model:\n",
    "\n",
    "Model works better for both the domains with test accuracy for source domain at 87% and target domain test accuracy at 96%.Model is not overfitting.Transfer learning does not work better for target domain here as the test accuracy for the final model where the classification layer is newly added is at 88%. Generalisation is pretty well in this case.\n",
    "\n",
    "4. Adding multiple new layers to pre trained model:\n",
    "\n",
    "A new dense layer and a classification layer is added to the final model. accuracy is decent at 86%. \n",
    "\n"
   ]
  },
  {
   "cell_type": "code",
   "execution_count": null,
   "metadata": {
    "colab": {},
    "colab_type": "code",
    "id": "lOCDpxU7DVdD"
   },
   "outputs": [],
   "source": []
  }
 ],
 "metadata": {
  "accelerator": "GPU",
  "colab": {
   "collapsed_sections": [
    "xxQRe5DzYPT0",
    "NaCY9PNmSNW9",
    "1qwU71uuk6qc"
   ],
   "name": "Task_3",
   "provenance": []
  },
  "kernelspec": {
   "display_name": "Python 3",
   "language": "python",
   "name": "python3"
  },
  "language_info": {
   "codemirror_mode": {
    "name": "ipython",
    "version": 3
   },
   "file_extension": ".py",
   "mimetype": "text/x-python",
   "name": "python",
   "nbconvert_exporter": "python",
   "pygments_lexer": "ipython3",
   "version": "3.7.9"
  }
 },
 "nbformat": 4,
 "nbformat_minor": 1
}
